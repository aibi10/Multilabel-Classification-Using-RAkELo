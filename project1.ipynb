{
 "cells": [
  {
   "cell_type": "code",
   "execution_count": 159,
   "metadata": {},
   "outputs": [],
   "source": [
    "import pandas as pd\n",
    "import numpy as np\n",
    "\n",
    "pro = pd.read_csv(r\"C:\\Users\\ABHI\\Desktop\\Sampled (1).csv\")\n"
   ]
  },
  {
   "cell_type": "code",
   "execution_count": 160,
   "metadata": {},
   "outputs": [],
   "source": [
    "from sklearn.naive_bayes import GaussianNB\n",
    "from sklearn.neighbors import KNeighborsClassifier\n",
    "from skmultilearn.ensemble import RakelO"
   ]
  },
  {
   "cell_type": "code",
   "execution_count": 161,
   "metadata": {},
   "outputs": [
    {
     "data": {
      "text/html": [
       "<div>\n",
       "<style scoped>\n",
       "    .dataframe tbody tr th:only-of-type {\n",
       "        vertical-align: middle;\n",
       "    }\n",
       "\n",
       "    .dataframe tbody tr th {\n",
       "        vertical-align: top;\n",
       "    }\n",
       "\n",
       "    .dataframe thead th {\n",
       "        text-align: right;\n",
       "    }\n",
       "</style>\n",
       "<table border=\"1\" class=\"dataframe\">\n",
       "  <thead>\n",
       "    <tr style=\"text-align: right;\">\n",
       "      <th></th>\n",
       "      <th>Unnamed: 0</th>\n",
       "      <th>Unnamed: 0.1</th>\n",
       "      <th>airline_name</th>\n",
       "      <th>author</th>\n",
       "      <th>author_country</th>\n",
       "      <th>content</th>\n",
       "      <th>cabin_flown</th>\n",
       "      <th>overall_rating</th>\n",
       "      <th>seat_comfort_rating</th>\n",
       "      <th>cabin_staff_rating</th>\n",
       "      <th>food_beverages_rating</th>\n",
       "      <th>inflight_entertainment_rating</th>\n",
       "      <th>value_money_rating</th>\n",
       "      <th>Month</th>\n",
       "      <th>Year</th>\n",
       "      <th>recommended</th>\n",
       "    </tr>\n",
       "  </thead>\n",
       "  <tbody>\n",
       "    <tr>\n",
       "      <th>0</th>\n",
       "      <td>5373</td>\n",
       "      <td>7371</td>\n",
       "      <td>ana-all-nippon-airways</td>\n",
       "      <td>S Bajumi</td>\n",
       "      <td>United States</td>\n",
       "      <td>New revised economy's seating arrangement on A...</td>\n",
       "      <td>Economy</td>\n",
       "      <td>6</td>\n",
       "      <td>2</td>\n",
       "      <td>4</td>\n",
       "      <td>4</td>\n",
       "      <td>4</td>\n",
       "      <td>2</td>\n",
       "      <td>5</td>\n",
       "      <td>2015</td>\n",
       "      <td>0</td>\n",
       "    </tr>\n",
       "    <tr>\n",
       "      <th>1</th>\n",
       "      <td>4342</td>\n",
       "      <td>5870</td>\n",
       "      <td>airasia-x</td>\n",
       "      <td>Paesen Yves</td>\n",
       "      <td>Belgium</td>\n",
       "      <td>KUL-MELMEL-KUL check in good and fast friendly...</td>\n",
       "      <td>Economy</td>\n",
       "      <td>10</td>\n",
       "      <td>5</td>\n",
       "      <td>5</td>\n",
       "      <td>4</td>\n",
       "      <td>0</td>\n",
       "      <td>5</td>\n",
       "      <td>11</td>\n",
       "      <td>2012</td>\n",
       "      <td>1</td>\n",
       "    </tr>\n",
       "    <tr>\n",
       "      <th>2</th>\n",
       "      <td>22935</td>\n",
       "      <td>35558</td>\n",
       "      <td>thomas-cook-airlines</td>\n",
       "      <td>P Phillips</td>\n",
       "      <td>United Kingdom</td>\n",
       "      <td>Just got back from Barbados on the (now) infam...</td>\n",
       "      <td>Premium Economy</td>\n",
       "      <td>9</td>\n",
       "      <td>4</td>\n",
       "      <td>5</td>\n",
       "      <td>4</td>\n",
       "      <td>3</td>\n",
       "      <td>5</td>\n",
       "      <td>11</td>\n",
       "      <td>2014</td>\n",
       "      <td>1</td>\n",
       "    </tr>\n",
       "  </tbody>\n",
       "</table>\n",
       "</div>"
      ],
      "text/plain": [
       "   Unnamed: 0  Unnamed: 0.1            airline_name       author  \\\n",
       "0        5373          7371  ana-all-nippon-airways     S Bajumi   \n",
       "1        4342          5870               airasia-x  Paesen Yves   \n",
       "2       22935         35558    thomas-cook-airlines   P Phillips   \n",
       "\n",
       "   author_country                                            content  \\\n",
       "0   United States  New revised economy's seating arrangement on A...   \n",
       "1         Belgium  KUL-MELMEL-KUL check in good and fast friendly...   \n",
       "2  United Kingdom  Just got back from Barbados on the (now) infam...   \n",
       "\n",
       "       cabin_flown  overall_rating  seat_comfort_rating  cabin_staff_rating  \\\n",
       "0          Economy               6                    2                   4   \n",
       "1          Economy              10                    5                   5   \n",
       "2  Premium Economy               9                    4                   5   \n",
       "\n",
       "   food_beverages_rating  inflight_entertainment_rating  value_money_rating  \\\n",
       "0                      4                              4                   2   \n",
       "1                      4                              0                   5   \n",
       "2                      4                              3                   5   \n",
       "\n",
       "   Month  Year  recommended  \n",
       "0      5  2015            0  \n",
       "1     11  2012            1  \n",
       "2     11  2014            1  "
      ]
     },
     "execution_count": 161,
     "metadata": {},
     "output_type": "execute_result"
    }
   ],
   "source": [
    "pro.head(3)"
   ]
  },
  {
   "cell_type": "code",
   "execution_count": 162,
   "metadata": {},
   "outputs": [],
   "source": [
    "pro['content'] = pro['content'].str.replace('\\d+', '')"
   ]
  },
  {
   "cell_type": "code",
   "execution_count": 163,
   "metadata": {},
   "outputs": [],
   "source": [
    "import re\n",
    "def decontracted(phrase):\n",
    "    # specific\n",
    "    phrase = re.sub(r\"won\\'t\", \"will not\", phrase)\n",
    "    phrase = re.sub(r\"can\\'t\", \"can not\", phrase)\n",
    "\n",
    "    # general\n",
    "    phrase = re.sub(r\"n\\'t\", \" not\", phrase)\n",
    "    phrase = re.sub(r\"\\'re\", \" are\", phrase)\n",
    "    phrase = re.sub(r\"\\'s\", \" is\", phrase)\n",
    "    phrase = re.sub(r\"\\'d\", \" would\", phrase)\n",
    "    phrase = re.sub(r\"\\'ll\", \" will\", phrase)\n",
    "    phrase = re.sub(r\"\\'t\", \" not\", phrase)\n",
    "    phrase = re.sub(r\"\\'ve\", \" have\", phrase)\n",
    "    phrase = re.sub(r\"\\'m\", \" am\", phrase)\n",
    "    return phrase"
   ]
  },
  {
   "cell_type": "code",
   "execution_count": 164,
   "metadata": {},
   "outputs": [],
   "source": [
    "stopwords= ['i', 'me', 'my', 'myself', 'we', 'our', 'ours', 'ourselves', 'you', \"you're\", \"you've\",\\\n",
    "            \"you'll\", \"you'd\", 'your', 'yours', 'yourself', 'yourselves', 'he', 'him', 'his', 'himself', \\\n",
    "            'she', \"she's\", 'her', 'hers', 'herself', 'it', \"it's\", 'its', 'itself', 'they', 'them', 'their',\\\n",
    "            'theirs', 'themselves', 'what', 'which', 'who', 'whom', 'this', 'that', \"that'll\", 'these', 'those', \\\n",
    "            'am', 'is', 'are', 'was', 'were', 'be', 'been', 'being', 'have', 'has', 'had', 'having', 'do', 'does', \\\n",
    "            'did', 'doing', 'a', 'an', 'the', 'and', 'but', 'if', 'or', 'because', 'as', 'until', 'while', 'of', \\\n",
    "            'at', 'by', 'for', 'with', 'about', 'against', 'between', 'into', 'through', 'during', 'before', 'after',\\\n",
    "            'above', 'below', 'to', 'from', 'up', 'down', 'in', 'out', 'on', 'off', 'over', 'under', 'again', 'further',\\\n",
    "            'then', 'once', 'here', 'there', 'when', 'where', 'why', 'how', 'all', 'any', 'both', 'each', 'few', 'more',\\\n",
    "            'most', 'other', 'some', 'such', 'only', 'own', 'same', 'so', 'than', 'too', 'very', \\\n",
    "            's', 't', 'can', 'will', 'just', 'don', \"don't\", 'should', \"should've\", 'now', 'd', 'll', 'm', 'o', 're', \\\n",
    "            've', 'y', 'ain', 'aren', \"aren't\", 'couldn', \"couldn't\", 'didn', \"didn't\", 'doesn', \"doesn't\", 'hadn',\\\n",
    "            \"hadn't\", 'hasn', \"hasn't\", 'haven', \"haven't\", 'isn', \"isn't\", 'ma', 'mightn', \"mightn't\", 'mustn',\\\n",
    "            \"mustn't\", 'needn', \"needn't\", 'shan', \"shan't\", 'shouldn', \"shouldn't\", 'wasn', \"wasn't\", 'weren', \"weren't\", \\\n",
    "            'won', \"won't\", 'wouldn', \"wouldn't\"]"
   ]
  },
  {
   "cell_type": "code",
   "execution_count": 165,
   "metadata": {},
   "outputs": [],
   "source": [
    "pro['content'] = pro['content'].astype(str)\n",
    "pro['content'] = pro['content'].str.replace(r'[^\\w\\s]+', '')"
   ]
  },
  {
   "cell_type": "code",
   "execution_count": 166,
   "metadata": {},
   "outputs": [
    {
     "name": "stderr",
     "output_type": "stream",
     "text": [
      "100%|█████████████████████████████████████| 2000/2000 [00:04<00:00, 488.53it/s]\n"
     ]
    }
   ],
   "source": [
    "from tqdm import tqdm\n",
    "content = []\n",
    "# tqdm is for printing the status bar\n",
    "for sentance in tqdm(pro['content'].values):\n",
    "    sentance.lower()\n",
    "    sent = decontracted(sentance)\n",
    "    sent = sent.replace('\\\\r', ' ')\n",
    "    sent = sent.replace('\\\\\"', ' ')\n",
    "    sent = sent.replace('\\\\n', ' ')\n",
    "    sent = re.sub('[^A-Za-z0-9]+', ' ', str(sent))\n",
    "    # https://gist.github.com/sebleier/554280\n",
    "    sent = ' '.join(e for e in sent.split() if e not in stopwords)\n",
    "    content.append(sent.strip()) "
   ]
  },
  {
   "cell_type": "code",
   "execution_count": 167,
   "metadata": {},
   "outputs": [],
   "source": [
    "lst = []\n",
    "for i in pro['content']:\n",
    "    lst.append(i.lower())"
   ]
  },
  {
   "cell_type": "code",
   "execution_count": 168,
   "metadata": {},
   "outputs": [],
   "source": [
    "pro['content'] = lst"
   ]
  },
  {
   "cell_type": "code",
   "execution_count": 169,
   "metadata": {},
   "outputs": [],
   "source": [
    "one_hot = pd.get_dummies(pro['cabin_flown'])\n",
    "pro['Business Class'] = one_hot['Business Class']\n",
    "pro['Economy'] = one_hot['Economy']\n",
    "pro['First Class'] = one_hot['First Class']\n",
    "pro['Premium Economy'] = one_hot['Premium Economy']"
   ]
  },
  {
   "cell_type": "code",
   "execution_count": 170,
   "metadata": {},
   "outputs": [],
   "source": [
    "lst = []\n",
    "for i in pro['overall_rating']:\n",
    "    if int(i) > 5:\n",
    "        lst.append(1)\n",
    "    elif int(i) <= 5:\n",
    "        lst.append(0)\n",
    "    else:\n",
    "        lst.append(None)"
   ]
  },
  {
   "cell_type": "code",
   "execution_count": 171,
   "metadata": {},
   "outputs": [],
   "source": [
    "pro['overall_rating'] = lst"
   ]
  },
  {
   "cell_type": "code",
   "execution_count": 172,
   "metadata": {},
   "outputs": [
    {
     "data": {
      "text/plain": [
       "array([1, 0], dtype=int64)"
      ]
     },
     "execution_count": 172,
     "metadata": {},
     "output_type": "execute_result"
    }
   ],
   "source": [
    "pro['overall_rating'].unique()"
   ]
  },
  {
   "cell_type": "code",
   "execution_count": 173,
   "metadata": {},
   "outputs": [
    {
     "name": "stderr",
     "output_type": "stream",
     "text": [
      "C:\\Users\\ABHI\\Anaconda3\\lib\\site-packages\\sklearn\\utils\\validation.py:595: DataConversionWarning: Data with input dtype int64 was converted to float64 by MinMaxScaler.\n",
      "  warnings.warn(msg, DataConversionWarning)\n"
     ]
    }
   ],
   "source": [
    "from sklearn import preprocessing\n",
    "\n",
    "x = pro['seat_comfort_rating']#returns a numpy array\n",
    "x = x.values.reshape(-1, 1)\n",
    "min_max_scaler = preprocessing.MinMaxScaler()\n",
    "seat_comfort = min_max_scaler.fit_transform(x)\n",
    "pro['seat_comfort_rating_1'] = seat_comfort"
   ]
  },
  {
   "cell_type": "code",
   "execution_count": 174,
   "metadata": {},
   "outputs": [
    {
     "name": "stderr",
     "output_type": "stream",
     "text": [
      "C:\\Users\\ABHI\\Anaconda3\\lib\\site-packages\\sklearn\\utils\\validation.py:595: DataConversionWarning: Data with input dtype int64 was converted to float64 by MinMaxScaler.\n",
      "  warnings.warn(msg, DataConversionWarning)\n"
     ]
    }
   ],
   "source": [
    "x = pro['cabin_staff_rating']#returns a numpy array\n",
    "x = x.values.reshape(-1, 1)\n",
    "min_max_scaler = preprocessing.MinMaxScaler()\n",
    "cabin_staff = min_max_scaler.fit_transform(x)\n",
    "pro['cabin_staff_rating_1'] = cabin_staff"
   ]
  },
  {
   "cell_type": "code",
   "execution_count": 175,
   "metadata": {},
   "outputs": [
    {
     "name": "stderr",
     "output_type": "stream",
     "text": [
      "C:\\Users\\ABHI\\Anaconda3\\lib\\site-packages\\sklearn\\utils\\validation.py:595: DataConversionWarning: Data with input dtype int64 was converted to float64 by MinMaxScaler.\n",
      "  warnings.warn(msg, DataConversionWarning)\n"
     ]
    }
   ],
   "source": [
    "x = pro['food_beverages_rating']#returns a numpy array\n",
    "x = x.values.reshape(-1, 1)\n",
    "min_max_scaler = preprocessing.MinMaxScaler()\n",
    "food_beverages = min_max_scaler.fit_transform(x)\n",
    "pro['food_beverages_rating_1'] = food_beverages"
   ]
  },
  {
   "cell_type": "code",
   "execution_count": 176,
   "metadata": {},
   "outputs": [
    {
     "name": "stderr",
     "output_type": "stream",
     "text": [
      "C:\\Users\\ABHI\\Anaconda3\\lib\\site-packages\\sklearn\\utils\\validation.py:595: DataConversionWarning: Data with input dtype int64 was converted to float64 by MinMaxScaler.\n",
      "  warnings.warn(msg, DataConversionWarning)\n"
     ]
    }
   ],
   "source": [
    "x = pro['inflight_entertainment_rating']#returns a numpy array\n",
    "x = x.values.reshape(-1, 1)\n",
    "min_max_scaler = preprocessing.MinMaxScaler()\n",
    "inflight_entertainment = min_max_scaler.fit_transform(x)\n",
    "pro['inflight_entertainment_rating_11'] = inflight_entertainment"
   ]
  },
  {
   "cell_type": "code",
   "execution_count": 177,
   "metadata": {},
   "outputs": [
    {
     "data": {
      "text/html": [
       "<div>\n",
       "<style scoped>\n",
       "    .dataframe tbody tr th:only-of-type {\n",
       "        vertical-align: middle;\n",
       "    }\n",
       "\n",
       "    .dataframe tbody tr th {\n",
       "        vertical-align: top;\n",
       "    }\n",
       "\n",
       "    .dataframe thead th {\n",
       "        text-align: right;\n",
       "    }\n",
       "</style>\n",
       "<table border=\"1\" class=\"dataframe\">\n",
       "  <thead>\n",
       "    <tr style=\"text-align: right;\">\n",
       "      <th></th>\n",
       "      <th>Unnamed: 0</th>\n",
       "      <th>Unnamed: 0.1</th>\n",
       "      <th>airline_name</th>\n",
       "      <th>author</th>\n",
       "      <th>author_country</th>\n",
       "      <th>content</th>\n",
       "      <th>cabin_flown</th>\n",
       "      <th>overall_rating</th>\n",
       "      <th>seat_comfort_rating</th>\n",
       "      <th>cabin_staff_rating</th>\n",
       "      <th>...</th>\n",
       "      <th>Year</th>\n",
       "      <th>recommended</th>\n",
       "      <th>Business Class</th>\n",
       "      <th>Economy</th>\n",
       "      <th>First Class</th>\n",
       "      <th>Premium Economy</th>\n",
       "      <th>seat_comfort_rating_1</th>\n",
       "      <th>cabin_staff_rating_1</th>\n",
       "      <th>food_beverages_rating_1</th>\n",
       "      <th>inflight_entertainment_rating_11</th>\n",
       "    </tr>\n",
       "  </thead>\n",
       "  <tbody>\n",
       "    <tr>\n",
       "      <th>0</th>\n",
       "      <td>5373</td>\n",
       "      <td>7371</td>\n",
       "      <td>ana-all-nippon-airways</td>\n",
       "      <td>S Bajumi</td>\n",
       "      <td>United States</td>\n",
       "      <td>new revised economys seating arrangement on an...</td>\n",
       "      <td>Economy</td>\n",
       "      <td>1</td>\n",
       "      <td>2</td>\n",
       "      <td>4</td>\n",
       "      <td>...</td>\n",
       "      <td>2015</td>\n",
       "      <td>0</td>\n",
       "      <td>0</td>\n",
       "      <td>1</td>\n",
       "      <td>0</td>\n",
       "      <td>0</td>\n",
       "      <td>0.4</td>\n",
       "      <td>0.8</td>\n",
       "      <td>0.8</td>\n",
       "      <td>0.8</td>\n",
       "    </tr>\n",
       "    <tr>\n",
       "      <th>1</th>\n",
       "      <td>4342</td>\n",
       "      <td>5870</td>\n",
       "      <td>airasia-x</td>\n",
       "      <td>Paesen Yves</td>\n",
       "      <td>Belgium</td>\n",
       "      <td>kulmelmelkul check in good and fast friendly s...</td>\n",
       "      <td>Economy</td>\n",
       "      <td>1</td>\n",
       "      <td>5</td>\n",
       "      <td>5</td>\n",
       "      <td>...</td>\n",
       "      <td>2012</td>\n",
       "      <td>1</td>\n",
       "      <td>0</td>\n",
       "      <td>1</td>\n",
       "      <td>0</td>\n",
       "      <td>0</td>\n",
       "      <td>1.0</td>\n",
       "      <td>1.0</td>\n",
       "      <td>0.8</td>\n",
       "      <td>0.0</td>\n",
       "    </tr>\n",
       "  </tbody>\n",
       "</table>\n",
       "<p>2 rows × 24 columns</p>\n",
       "</div>"
      ],
      "text/plain": [
       "   Unnamed: 0  Unnamed: 0.1            airline_name       author  \\\n",
       "0        5373          7371  ana-all-nippon-airways     S Bajumi   \n",
       "1        4342          5870               airasia-x  Paesen Yves   \n",
       "\n",
       "  author_country                                            content  \\\n",
       "0  United States  new revised economys seating arrangement on an...   \n",
       "1        Belgium  kulmelmelkul check in good and fast friendly s...   \n",
       "\n",
       "  cabin_flown  overall_rating  seat_comfort_rating  cabin_staff_rating  ...  \\\n",
       "0     Economy               1                    2                   4  ...   \n",
       "1     Economy               1                    5                   5  ...   \n",
       "\n",
       "   Year  recommended  Business Class  Economy  First Class  Premium Economy  \\\n",
       "0  2015            0               0        1            0                0   \n",
       "1  2012            1               0        1            0                0   \n",
       "\n",
       "   seat_comfort_rating_1  cabin_staff_rating_1  food_beverages_rating_1  \\\n",
       "0                    0.4                   0.8                      0.8   \n",
       "1                    1.0                   1.0                      0.8   \n",
       "\n",
       "   inflight_entertainment_rating_11  \n",
       "0                               0.8  \n",
       "1                               0.0  \n",
       "\n",
       "[2 rows x 24 columns]"
      ]
     },
     "execution_count": 177,
     "metadata": {},
     "output_type": "execute_result"
    }
   ],
   "source": [
    "pro.head(2)"
   ]
  },
  {
   "cell_type": "code",
   "execution_count": 178,
   "metadata": {},
   "outputs": [],
   "source": [
    "lst = []\n",
    "for i in pro['value_money_rating']:\n",
    "    if int(i) > 3:\n",
    "        lst.append(1)\n",
    "    elif int(i) <= 3:\n",
    "        lst.append(0)\n",
    "    else:\n",
    "        lst.append(None)"
   ]
  },
  {
   "cell_type": "code",
   "execution_count": 179,
   "metadata": {},
   "outputs": [],
   "source": [
    "pro['value_money_rating_1'] = lst"
   ]
  },
  {
   "cell_type": "code",
   "execution_count": 180,
   "metadata": {},
   "outputs": [
    {
     "data": {
      "text/html": [
       "<div>\n",
       "<style scoped>\n",
       "    .dataframe tbody tr th:only-of-type {\n",
       "        vertical-align: middle;\n",
       "    }\n",
       "\n",
       "    .dataframe tbody tr th {\n",
       "        vertical-align: top;\n",
       "    }\n",
       "\n",
       "    .dataframe thead th {\n",
       "        text-align: right;\n",
       "    }\n",
       "</style>\n",
       "<table border=\"1\" class=\"dataframe\">\n",
       "  <thead>\n",
       "    <tr style=\"text-align: right;\">\n",
       "      <th></th>\n",
       "      <th>Unnamed: 0</th>\n",
       "      <th>Unnamed: 0.1</th>\n",
       "      <th>airline_name</th>\n",
       "      <th>author</th>\n",
       "      <th>author_country</th>\n",
       "      <th>content</th>\n",
       "      <th>cabin_flown</th>\n",
       "      <th>overall_rating</th>\n",
       "      <th>seat_comfort_rating</th>\n",
       "      <th>cabin_staff_rating</th>\n",
       "      <th>...</th>\n",
       "      <th>recommended</th>\n",
       "      <th>Business Class</th>\n",
       "      <th>Economy</th>\n",
       "      <th>First Class</th>\n",
       "      <th>Premium Economy</th>\n",
       "      <th>seat_comfort_rating_1</th>\n",
       "      <th>cabin_staff_rating_1</th>\n",
       "      <th>food_beverages_rating_1</th>\n",
       "      <th>inflight_entertainment_rating_11</th>\n",
       "      <th>value_money_rating_1</th>\n",
       "    </tr>\n",
       "  </thead>\n",
       "  <tbody>\n",
       "    <tr>\n",
       "      <th>0</th>\n",
       "      <td>5373</td>\n",
       "      <td>7371</td>\n",
       "      <td>ana-all-nippon-airways</td>\n",
       "      <td>S Bajumi</td>\n",
       "      <td>United States</td>\n",
       "      <td>new revised economys seating arrangement on an...</td>\n",
       "      <td>Economy</td>\n",
       "      <td>1</td>\n",
       "      <td>2</td>\n",
       "      <td>4</td>\n",
       "      <td>...</td>\n",
       "      <td>0</td>\n",
       "      <td>0</td>\n",
       "      <td>1</td>\n",
       "      <td>0</td>\n",
       "      <td>0</td>\n",
       "      <td>0.4</td>\n",
       "      <td>0.8</td>\n",
       "      <td>0.8</td>\n",
       "      <td>0.8</td>\n",
       "      <td>0</td>\n",
       "    </tr>\n",
       "    <tr>\n",
       "      <th>1</th>\n",
       "      <td>4342</td>\n",
       "      <td>5870</td>\n",
       "      <td>airasia-x</td>\n",
       "      <td>Paesen Yves</td>\n",
       "      <td>Belgium</td>\n",
       "      <td>kulmelmelkul check in good and fast friendly s...</td>\n",
       "      <td>Economy</td>\n",
       "      <td>1</td>\n",
       "      <td>5</td>\n",
       "      <td>5</td>\n",
       "      <td>...</td>\n",
       "      <td>1</td>\n",
       "      <td>0</td>\n",
       "      <td>1</td>\n",
       "      <td>0</td>\n",
       "      <td>0</td>\n",
       "      <td>1.0</td>\n",
       "      <td>1.0</td>\n",
       "      <td>0.8</td>\n",
       "      <td>0.0</td>\n",
       "      <td>1</td>\n",
       "    </tr>\n",
       "  </tbody>\n",
       "</table>\n",
       "<p>2 rows × 25 columns</p>\n",
       "</div>"
      ],
      "text/plain": [
       "   Unnamed: 0  Unnamed: 0.1            airline_name       author  \\\n",
       "0        5373          7371  ana-all-nippon-airways     S Bajumi   \n",
       "1        4342          5870               airasia-x  Paesen Yves   \n",
       "\n",
       "  author_country                                            content  \\\n",
       "0  United States  new revised economys seating arrangement on an...   \n",
       "1        Belgium  kulmelmelkul check in good and fast friendly s...   \n",
       "\n",
       "  cabin_flown  overall_rating  seat_comfort_rating  cabin_staff_rating  ...  \\\n",
       "0     Economy               1                    2                   4  ...   \n",
       "1     Economy               1                    5                   5  ...   \n",
       "\n",
       "   recommended  Business Class  Economy  First Class  Premium Economy  \\\n",
       "0            0               0        1            0                0   \n",
       "1            1               0        1            0                0   \n",
       "\n",
       "   seat_comfort_rating_1  cabin_staff_rating_1  food_beverages_rating_1  \\\n",
       "0                    0.4                   0.8                      0.8   \n",
       "1                    1.0                   1.0                      0.8   \n",
       "\n",
       "   inflight_entertainment_rating_11  value_money_rating_1  \n",
       "0                               0.8                     0  \n",
       "1                               0.0                     1  \n",
       "\n",
       "[2 rows x 25 columns]"
      ]
     },
     "execution_count": 180,
     "metadata": {},
     "output_type": "execute_result"
    }
   ],
   "source": [
    "pro.head(2)"
   ]
  },
  {
   "cell_type": "code",
   "execution_count": 23,
   "metadata": {},
   "outputs": [
    {
     "name": "stderr",
     "output_type": "stream",
     "text": [
      "C:\\Users\\ABHI\\Anaconda3\\lib\\site-packages\\smart_open\\smart_open_lib.py:398: UserWarning: This function is deprecated, use smart_open.open instead. See the migration notes for details: https://github.com/RaRe-Technologies/smart_open/blob/master/README.rst#migrating-to-the-new-open-function\n",
      "  'See the migration notes for details: %s' % _MIGRATION_NOTES_URL\n"
     ]
    }
   ],
   "source": [
    "from gensim.models import Word2Vec\n",
    "from gensim.models import KeyedVectors\n",
    "import pickle\n",
    "model = KeyedVectors.load_word2vec_format(r\"F:\\Python\\New folder\\GoogleNews-vectors-negative300.bin\", binary = True)"
   ]
  },
  {
   "cell_type": "code",
   "execution_count": 181,
   "metadata": {},
   "outputs": [],
   "source": [
    "from sklearn.model_selection import train_test_split\n",
    "train, test = train_test_split(pro, test_size=0.3, random_state = 50)"
   ]
  },
  {
   "cell_type": "code",
   "execution_count": 25,
   "metadata": {},
   "outputs": [],
   "source": [
    "X_tr = train[['content', 'Business Class', 'Economy',  'First Class', 'Premium Economy', 'seat_comfort_rating_1', 'cabin_staff_rating_1', 'food_beverages_rating_1']]\n",
    "y_tr = train[['overall_rating', 'value_money_rating_1', 'recommended']]\n",
    "X_test = test[['content', 'Business Class', 'Economy',  'First Class', 'Premium Economy', 'seat_comfort_rating_1', 'cabin_staff_rating_1', 'food_beverages_rating_1']]\n",
    "y_test = test[['overall_rating', 'value_money_rating_1', 'recommended']]\n"
   ]
  },
  {
   "cell_type": "code",
   "execution_count": 26,
   "metadata": {},
   "outputs": [
    {
     "data": {
      "text/html": [
       "<div>\n",
       "<style scoped>\n",
       "    .dataframe tbody tr th:only-of-type {\n",
       "        vertical-align: middle;\n",
       "    }\n",
       "\n",
       "    .dataframe tbody tr th {\n",
       "        vertical-align: top;\n",
       "    }\n",
       "\n",
       "    .dataframe thead th {\n",
       "        text-align: right;\n",
       "    }\n",
       "</style>\n",
       "<table border=\"1\" class=\"dataframe\">\n",
       "  <thead>\n",
       "    <tr style=\"text-align: right;\">\n",
       "      <th></th>\n",
       "      <th>Unnamed: 0</th>\n",
       "      <th>Unnamed: 0.1</th>\n",
       "      <th>airline_name</th>\n",
       "      <th>author</th>\n",
       "      <th>author_country</th>\n",
       "      <th>content</th>\n",
       "      <th>cabin_flown</th>\n",
       "      <th>overall_rating</th>\n",
       "      <th>seat_comfort_rating</th>\n",
       "      <th>cabin_staff_rating</th>\n",
       "      <th>...</th>\n",
       "      <th>recommended</th>\n",
       "      <th>Business Class</th>\n",
       "      <th>Economy</th>\n",
       "      <th>First Class</th>\n",
       "      <th>Premium Economy</th>\n",
       "      <th>seat_comfort_rating_1</th>\n",
       "      <th>cabin_staff_rating_1</th>\n",
       "      <th>food_beverages_rating_1</th>\n",
       "      <th>inflight_entertainment_rating_11</th>\n",
       "      <th>value_money_rating_1</th>\n",
       "    </tr>\n",
       "  </thead>\n",
       "  <tbody>\n",
       "    <tr>\n",
       "      <th>1153</th>\n",
       "      <td>24755</td>\n",
       "      <td>37976</td>\n",
       "      <td>united-airlines</td>\n",
       "      <td>A Clark</td>\n",
       "      <td>United States</td>\n",
       "      <td>chicago to st louis roundtrip all flights were...</td>\n",
       "      <td>Economy</td>\n",
       "      <td>1</td>\n",
       "      <td>4</td>\n",
       "      <td>4</td>\n",
       "      <td>...</td>\n",
       "      <td>1</td>\n",
       "      <td>0</td>\n",
       "      <td>1</td>\n",
       "      <td>0</td>\n",
       "      <td>0</td>\n",
       "      <td>0.8</td>\n",
       "      <td>0.8</td>\n",
       "      <td>0.6</td>\n",
       "      <td>0.2</td>\n",
       "      <td>1</td>\n",
       "    </tr>\n",
       "  </tbody>\n",
       "</table>\n",
       "<p>1 rows × 25 columns</p>\n",
       "</div>"
      ],
      "text/plain": [
       "      Unnamed: 0  Unnamed: 0.1     airline_name   author author_country  \\\n",
       "1153       24755         37976  united-airlines  A Clark  United States   \n",
       "\n",
       "                                                content cabin_flown  \\\n",
       "1153  chicago to st louis roundtrip all flights were...     Economy   \n",
       "\n",
       "      overall_rating  seat_comfort_rating  cabin_staff_rating  ...  \\\n",
       "1153               1                    4                   4  ...   \n",
       "\n",
       "      recommended  Business Class  Economy  First Class  Premium Economy  \\\n",
       "1153            1               0        1            0                0   \n",
       "\n",
       "      seat_comfort_rating_1  cabin_staff_rating_1  food_beverages_rating_1  \\\n",
       "1153                    0.8                   0.8                      0.6   \n",
       "\n",
       "      inflight_entertainment_rating_11  value_money_rating_1  \n",
       "1153                               0.2                     1  \n",
       "\n",
       "[1 rows x 25 columns]"
      ]
     },
     "execution_count": 26,
     "metadata": {},
     "output_type": "execute_result"
    }
   ],
   "source": [
    "train.head(1)"
   ]
  },
  {
   "cell_type": "code",
   "execution_count": 182,
   "metadata": {},
   "outputs": [
    {
     "data": {
      "text/plain": [
       "overall_rating          2\n",
       "value_money_rating_1    2\n",
       "recommended             2\n",
       "dtype: int64"
      ]
     },
     "execution_count": 182,
     "metadata": {},
     "output_type": "execute_result"
    }
   ],
   "source": [
    "y_tr.nunique()"
   ]
  },
  {
   "cell_type": "code",
   "execution_count": 183,
   "metadata": {},
   "outputs": [],
   "source": [
    "content = X_tr['content']"
   ]
  },
  {
   "cell_type": "code",
   "execution_count": 184,
   "metadata": {},
   "outputs": [],
   "source": [
    "X_tr_preprocessed_summary111 = []\n",
    "k = 0\n",
    "li1 = []\n",
    "for i in content:\n",
    "    l=[]\n",
    "    for j in i.split():\n",
    "        try:\n",
    "            l.append(model[str(j)])\n",
    "            k = 1\n",
    "        except:\n",
    "            pass\n",
    "    li1.append(np.mean(l,axis=0))"
   ]
  },
  {
   "cell_type": "code",
   "execution_count": 185,
   "metadata": {},
   "outputs": [],
   "source": [
    "content = X_test['content']"
   ]
  },
  {
   "cell_type": "code",
   "execution_count": 186,
   "metadata": {},
   "outputs": [],
   "source": [
    "X_tr_preprocessed_summary111 = []\n",
    "li2 = []\n",
    "for i in content:\n",
    "    l=[]\n",
    "    for j in i.split():\n",
    "        try:\n",
    "            l.append(model[str(j)])\n",
    "            k = 1\n",
    "        except:\n",
    "            pass\n",
    "    li2.append(np.mean(l,axis=0))"
   ]
  },
  {
   "cell_type": "code",
   "execution_count": 187,
   "metadata": {},
   "outputs": [],
   "source": [
    "li1 = np.array(li1)\n",
    "li1 = pd.DataFrame(li1)"
   ]
  },
  {
   "cell_type": "code",
   "execution_count": 188,
   "metadata": {},
   "outputs": [],
   "source": [
    "#t = li1[0].apply(pd.Series)"
   ]
  },
  {
   "cell_type": "code",
   "execution_count": 189,
   "metadata": {},
   "outputs": [],
   "source": [
    "li2 = np.array(li2)\n",
    "li2 = pd.DataFrame(li2)"
   ]
  },
  {
   "cell_type": "code",
   "execution_count": 190,
   "metadata": {},
   "outputs": [
    {
     "data": {
      "text/html": [
       "<div>\n",
       "<style scoped>\n",
       "    .dataframe tbody tr th:only-of-type {\n",
       "        vertical-align: middle;\n",
       "    }\n",
       "\n",
       "    .dataframe tbody tr th {\n",
       "        vertical-align: top;\n",
       "    }\n",
       "\n",
       "    .dataframe thead th {\n",
       "        text-align: right;\n",
       "    }\n",
       "</style>\n",
       "<table border=\"1\" class=\"dataframe\">\n",
       "  <thead>\n",
       "    <tr style=\"text-align: right;\">\n",
       "      <th></th>\n",
       "      <th>content</th>\n",
       "      <th>Business Class</th>\n",
       "      <th>Economy</th>\n",
       "      <th>First Class</th>\n",
       "      <th>Premium Economy</th>\n",
       "      <th>seat_comfort_rating_1</th>\n",
       "      <th>cabin_staff_rating_1</th>\n",
       "      <th>food_beverages_rating_1</th>\n",
       "    </tr>\n",
       "  </thead>\n",
       "  <tbody>\n",
       "    <tr>\n",
       "      <th>1153</th>\n",
       "      <td>chicago to st louis roundtrip all flights were...</td>\n",
       "      <td>0</td>\n",
       "      <td>1</td>\n",
       "      <td>0</td>\n",
       "      <td>0</td>\n",
       "      <td>0.8</td>\n",
       "      <td>0.8</td>\n",
       "      <td>0.6</td>\n",
       "    </tr>\n",
       "    <tr>\n",
       "      <th>1923</th>\n",
       "      <td>the inair part of my experience of this airlin...</td>\n",
       "      <td>0</td>\n",
       "      <td>1</td>\n",
       "      <td>0</td>\n",
       "      <td>0</td>\n",
       "      <td>0.4</td>\n",
       "      <td>0.6</td>\n",
       "      <td>0.6</td>\n",
       "    </tr>\n",
       "  </tbody>\n",
       "</table>\n",
       "</div>"
      ],
      "text/plain": [
       "                                                content  Business Class  \\\n",
       "1153  chicago to st louis roundtrip all flights were...               0   \n",
       "1923  the inair part of my experience of this airlin...               0   \n",
       "\n",
       "      Economy  First Class  Premium Economy  seat_comfort_rating_1  \\\n",
       "1153        1            0                0                    0.8   \n",
       "1923        1            0                0                    0.4   \n",
       "\n",
       "      cabin_staff_rating_1  food_beverages_rating_1  \n",
       "1153                   0.8                      0.6  \n",
       "1923                   0.6                      0.6  "
      ]
     },
     "execution_count": 190,
     "metadata": {},
     "output_type": "execute_result"
    }
   ],
   "source": [
    "X_tr.head(2)"
   ]
  },
  {
   "cell_type": "code",
   "execution_count": 192,
   "metadata": {},
   "outputs": [
    {
     "name": "stdout",
     "output_type": "stream",
     "text": [
      "the overall dimension of matrix is\n"
     ]
    },
    {
     "data": {
      "text/plain": [
       "(1400, 307)"
      ]
     },
     "execution_count": 192,
     "metadata": {},
     "output_type": "execute_result"
    }
   ],
   "source": [
    "X_tr_all = np.hstack((li1, X_tr[['Business Class', 'Economy', 'First Class', 'Premium Economy', 'seat_comfort_rating_1', 'cabin_staff_rating_1', 'food_beverages_rating_1']]))\n",
    "print(\"the overall dimension of matrix is\")\n",
    "X_tr_all.shape"
   ]
  },
  {
   "cell_type": "code",
   "execution_count": 193,
   "metadata": {},
   "outputs": [
    {
     "data": {
      "text/plain": [
       "array([ 2.23260280e-02,  2.18972694e-02,  7.38841714e-03,  8.58884528e-02,\n",
       "       -5.35451844e-02, -4.88579087e-02, -1.51220178e-02, -9.19295549e-02,\n",
       "        9.79540274e-02,  6.24592490e-02, -9.72617511e-03, -1.11613065e-01,\n",
       "        4.39264113e-03, -1.38047384e-02, -4.89709675e-02,  8.15616697e-02,\n",
       "        7.03816265e-02,  9.59322378e-02,  2.44670957e-02, -2.09948439e-02,\n",
       "       -5.01161329e-02,  8.96440446e-03,  1.11400066e-02, -1.12208622e-02,\n",
       "        2.80197430e-02,  2.51457468e-02, -1.11487038e-01,  6.03588335e-02,\n",
       "        4.44003306e-02,  9.42323264e-03, -2.02048607e-02, -2.85332836e-02,\n",
       "       -3.26548330e-02, -1.69794150e-02,  1.56791508e-02, -3.09597570e-02,\n",
       "       -3.00595351e-02,  2.36004149e-03,  1.59842558e-02,  5.02253026e-02,\n",
       "        5.06241024e-02, -4.35295552e-02,  1.34230122e-01, -1.72909070e-02,\n",
       "       -1.07886614e-02, -4.89612781e-02,  1.21114310e-02,  3.34390788e-03,\n",
       "        4.00299914e-02, -2.62074359e-03,  2.35232841e-02,  4.18088846e-02,\n",
       "        2.13070381e-02,  1.08966650e-02,  9.56617948e-03,  2.73136050e-02,\n",
       "       -2.67268158e-02, -2.82411687e-02,  2.08358876e-02, -5.66006638e-02,\n",
       "       -5.45760356e-02,  3.70669961e-02, -1.00399107e-01, -1.17503099e-01,\n",
       "       -2.45699063e-02, -2.83548776e-02, -6.68574050e-02,  7.29037523e-02,\n",
       "       -3.65982503e-02,  8.14970061e-02,  3.12790275e-02,  4.27272134e-02,\n",
       "        5.52496575e-02,  2.56426744e-02, -1.45172253e-01, -6.04573674e-02,\n",
       "        6.10802360e-02,  6.38410076e-02,  3.71474288e-02,  9.22937170e-02,\n",
       "       -3.29292100e-03, -2.32008491e-02,  3.02114263e-02, -1.23764127e-02,\n",
       "       -2.22158656e-02, -6.25574961e-02, -6.73388764e-02,  9.92228836e-02,\n",
       "        3.82345244e-02,  4.30789106e-02,  5.64803630e-02,  3.47230496e-04,\n",
       "       -5.74956276e-02, -3.73281166e-02, -6.14636112e-03, -5.74459434e-02,\n",
       "       -1.30703738e-02,  3.57599705e-02,  1.57054346e-02, -2.01004781e-02,\n",
       "        2.28481181e-02, -4.93189879e-02, -1.44564696e-02,  3.08992341e-02,\n",
       "       -1.15096860e-03, -1.24177234e-02,  1.82349049e-02, -2.51220148e-02,\n",
       "        6.65499046e-02, -7.76286721e-02, -4.37292717e-02, -1.41044240e-02,\n",
       "       -9.72883310e-03, -3.38100269e-02,  1.54714817e-02,  2.76973080e-02,\n",
       "        6.48949072e-02, -2.51172781e-02,  7.56493434e-02,  7.04513192e-02,\n",
       "       -9.77214724e-02,  2.43675429e-03, -6.05714396e-02,  4.27128859e-02,\n",
       "       -3.70699540e-02, -3.45462700e-04, -4.39603850e-02, -4.65293266e-02,\n",
       "        6.95433244e-02,  5.50792962e-02, -2.51542535e-02, -5.79700023e-02,\n",
       "       -4.28084619e-02, -3.17255333e-02, -5.09903505e-02, -6.32089749e-02,\n",
       "        2.33577229e-02, -2.35327743e-02, -6.33081561e-03,  7.70286471e-02,\n",
       "        1.46579165e-02, -6.83059692e-02,  3.66166681e-02, -7.49578699e-03,\n",
       "       -2.43642386e-02,  1.42759467e-02, -8.77285227e-02, -8.36966410e-02,\n",
       "       -3.69287394e-02, -3.14675318e-03,  5.23796529e-02,  4.61135507e-02,\n",
       "       -5.16366735e-02,  1.42479641e-02, -3.08187529e-02, -6.74443096e-02,\n",
       "       -2.46375017e-02, -4.95393574e-02, -6.74146339e-02, -1.68130044e-02,\n",
       "       -3.42451893e-02,  6.98950812e-02,  5.72927520e-02,  4.67646979e-02,\n",
       "       -3.18387669e-04, -5.59369065e-02,  1.01084821e-02, -2.30698232e-02,\n",
       "        2.06480715e-02, -6.19491935e-02, -1.61665753e-01, -4.04166132e-02,\n",
       "       -2.21939087e-02, -7.76402578e-02, -2.09976286e-02, -1.79265998e-02,\n",
       "        4.02450785e-02, -1.03619829e-01, -3.00883781e-02,  2.74279062e-03,\n",
       "       -6.40764013e-02, -4.38051000e-02, -8.37995950e-03,  7.24531943e-03,\n",
       "        1.79799702e-02, -6.84924249e-04, -1.21981921e-02,  1.16899069e-02,\n",
       "        2.41421144e-02,  3.41987610e-02,  3.83344032e-02,  2.81654913e-02,\n",
       "        1.67722013e-02,  1.63001791e-02, -4.56528552e-02,  7.11815059e-02,\n",
       "       -4.42644916e-02, -3.33867595e-02, -6.07929677e-02, -1.45504832e-01,\n",
       "        4.06837463e-03,  6.22370653e-02, -4.98993918e-02, -2.96961386e-02,\n",
       "        3.34230736e-02, -1.14664687e-02, -2.42212806e-02,  4.01501544e-03,\n",
       "        3.14849280e-02,  8.30870122e-03, -2.38388106e-02,  4.00290154e-02,\n",
       "       -4.42960784e-02,  4.84505147e-02, -9.03033912e-02,  3.41846198e-02,\n",
       "        1.27387822e-01,  3.55708897e-02, -1.24642931e-01,  2.64242217e-02,\n",
       "       -1.95211042e-02,  1.07425591e-03,  3.03457770e-02,  1.56677999e-02,\n",
       "        6.36150092e-02, -3.18859369e-02,  3.30470242e-02,  3.52843218e-02,\n",
       "       -1.15060573e-02, -2.34867185e-02,  4.97477464e-02, -6.05117977e-02,\n",
       "        2.53327303e-02, -3.63623229e-04,  3.60522866e-02,  1.31724291e-02,\n",
       "       -7.82934017e-03, -5.77767529e-02,  6.66369945e-02, -1.73130035e-02,\n",
       "        5.04636057e-02,  1.52767925e-02,  1.62053928e-02, -1.23671591e-01,\n",
       "       -3.94616835e-02,  8.63424153e-04, -3.39190327e-02,  1.51891969e-02,\n",
       "       -1.54151656e-02, -2.94927265e-02,  2.91775968e-02,  2.03474090e-02,\n",
       "        2.65188906e-02,  6.54983968e-02,  4.55783755e-02, -3.57121713e-02,\n",
       "        6.24161698e-02,  3.89488041e-02, -4.30879593e-02, -4.77403775e-02,\n",
       "        3.67207862e-02,  2.72776447e-02, -1.99052766e-02,  4.14045155e-02,\n",
       "        1.44299297e-02,  9.15665999e-02, -2.55314889e-03, -5.26370555e-02,\n",
       "       -8.01453441e-02,  4.81280452e-03,  2.79559866e-02,  6.54977933e-02,\n",
       "        4.45586406e-02,  3.78445424e-02,  6.48155659e-02, -5.35540693e-02,\n",
       "       -3.84775475e-02, -1.01036444e-01, -6.53138608e-02, -2.13185754e-02,\n",
       "        1.75447240e-02,  2.91978791e-02, -1.52380876e-02,  1.01535376e-02,\n",
       "        2.40989886e-02,  1.16677862e-02, -6.63875490e-02,  4.49631875e-03,\n",
       "       -2.22078655e-02,  6.08991310e-02, -6.92110732e-02,  2.42171865e-02,\n",
       "       -3.83414999e-02,  5.22811227e-02,  1.65649503e-02,  2.72156093e-02,\n",
       "       -3.11780330e-02, -2.01298781e-02,  4.12195250e-02, -5.16701601e-02,\n",
       "        0.00000000e+00,  1.00000000e+00,  0.00000000e+00,  0.00000000e+00,\n",
       "        8.00000000e-01,  8.00000000e-01,  6.00000000e-01])"
      ]
     },
     "execution_count": 193,
     "metadata": {},
     "output_type": "execute_result"
    }
   ],
   "source": [
    "X_tr_all[0]"
   ]
  },
  {
   "cell_type": "code",
   "execution_count": 195,
   "metadata": {},
   "outputs": [
    {
     "name": "stdout",
     "output_type": "stream",
     "text": [
      "the overall dimension of matrix is\n"
     ]
    },
    {
     "data": {
      "text/plain": [
       "(600, 307)"
      ]
     },
     "execution_count": 195,
     "metadata": {},
     "output_type": "execute_result"
    }
   ],
   "source": [
    "X_test_all = np.hstack((li2, X_test[['Business Class', 'Economy', 'First Class', 'Premium Economy', 'seat_comfort_rating_1', 'cabin_staff_rating_1', 'food_beverages_rating_1']]))\n",
    "print(\"the overall dimension of matrix is\")\n",
    "X_test_all.shape"
   ]
  },
  {
   "cell_type": "code",
   "execution_count": 197,
   "metadata": {},
   "outputs": [],
   "source": [
    "from sklearn.neighbors import KNeighborsClassifier\n",
    "classifier = RakelO(\n",
    "    base_classifier=KNeighborsClassifier(n_neighbors = 1),\n",
    "    base_classifier_require_dense=[False, False],\n",
    "    labelset_size=2,\n",
    "    model_count=5\n",
    ")\n",
    "\n"
   ]
  },
  {
   "cell_type": "code",
   "execution_count": 40,
   "metadata": {},
   "outputs": [
    {
     "data": {
      "text/plain": [
       "1400"
      ]
     },
     "execution_count": 40,
     "metadata": {},
     "output_type": "execute_result"
    }
   ],
   "source": [
    "len(X_tr_all)"
   ]
  },
  {
   "cell_type": "code",
   "execution_count": 198,
   "metadata": {},
   "outputs": [
    {
     "data": {
      "text/plain": [
       "MajorityVotingClassifier(classifier=LabelPowerset(classifier=KNeighborsClassifier(algorithm='auto', leaf_size=30, metric='minkowski',\n",
       "           metric_params=None, n_jobs=None, n_neighbors=1, p=2,\n",
       "           weights='uniform'),\n",
       "       require_dense=[False, False]),\n",
       "             clusterer=RandomLabelSpaceClusterer(allow_overlap=True, cluster_count=5, cluster_size=2),\n",
       "             require_dense=[False, False])"
      ]
     },
     "execution_count": 198,
     "metadata": {},
     "output_type": "execute_result"
    }
   ],
   "source": [
    "classifier.fit(X_tr_all, y_tr)\n",
    "#prediction = classifier.predict(X_test_all, y_test)"
   ]
  },
  {
   "cell_type": "code",
   "execution_count": 199,
   "metadata": {},
   "outputs": [],
   "source": [
    "prediction = classifier.predict(X_test_all)"
   ]
  },
  {
   "cell_type": "code",
   "execution_count": 200,
   "metadata": {},
   "outputs": [
    {
     "data": {
      "text/plain": [
       "0.6716666666666666"
      ]
     },
     "execution_count": 200,
     "metadata": {},
     "output_type": "execute_result"
    }
   ],
   "source": [
    "from sklearn.metrics import accuracy_score\n",
    "accuracy_score(y_test, prediction)"
   ]
  },
  {
   "cell_type": "code",
   "execution_count": 201,
   "metadata": {},
   "outputs": [
    {
     "data": {
      "text/plain": [
       "0.18055555555555555"
      ]
     },
     "execution_count": 201,
     "metadata": {},
     "output_type": "execute_result"
    }
   ],
   "source": [
    "from sklearn.metrics import hamming_loss\n",
    "hamming_loss(y_test, prediction, labels=None, sample_weight=None)"
   ]
  },
  {
   "cell_type": "code",
   "execution_count": 202,
   "metadata": {},
   "outputs": [
    {
     "data": {
      "text/plain": [
       "0.7422222222222223"
      ]
     },
     "execution_count": 202,
     "metadata": {},
     "output_type": "execute_result"
    }
   ],
   "source": [
    "from sklearn.metrics import jaccard_similarity_score\n",
    "jaccard_similarity_score(y_test, prediction, sample_weight=None)"
   ]
  },
  {
   "cell_type": "code",
   "execution_count": 203,
   "metadata": {},
   "outputs": [
    {
     "data": {
      "text/plain": [
       "0.8421563865954348"
      ]
     },
     "execution_count": 203,
     "metadata": {},
     "output_type": "execute_result"
    }
   ],
   "source": [
    "from sklearn.metrics import f1_score\n",
    "f1_score(y_test, prediction,  labels=None, pos_label=1, average='micro', sample_weight=None)"
   ]
  },
  {
   "cell_type": "code",
   "execution_count": 204,
   "metadata": {},
   "outputs": [
    {
     "data": {
      "text/plain": [
       "0.8415946756541718"
      ]
     },
     "execution_count": 204,
     "metadata": {},
     "output_type": "execute_result"
    }
   ],
   "source": [
    "from sklearn.metrics import f1_score\n",
    "f1_score(y_test, prediction,  labels=None, pos_label=1, average='macro', sample_weight=None)"
   ]
  },
  {
   "cell_type": "code",
   "execution_count": 205,
   "metadata": {},
   "outputs": [],
   "source": [
    "from sklearn import svm"
   ]
  },
  {
   "cell_type": "code",
   "execution_count": 206,
   "metadata": {},
   "outputs": [],
   "source": [
    "classifier = RakelO(\n",
    "    base_classifier=svm.SVC(gamma='scale'),\n",
    "    base_classifier_require_dense=[False, False],\n",
    "    labelset_size=2,\n",
    "    model_count=5\n",
    ")\n"
   ]
  },
  {
   "cell_type": "code",
   "execution_count": 207,
   "metadata": {},
   "outputs": [
    {
     "data": {
      "text/plain": [
       "MajorityVotingClassifier(classifier=LabelPowerset(classifier=SVC(C=1.0, cache_size=200, class_weight=None, coef0=0.0,\n",
       "  decision_function_shape='ovr', degree=3, gamma='scale', kernel='rbf',\n",
       "  max_iter=-1, probability=False, random_state=None, shrinking=True,\n",
       "  tol=0.001, verbose=False),\n",
       "       require_dense=[False, False]),\n",
       "             clusterer=RandomLabelSpaceClusterer(allow_overlap=True, cluster_count=5, cluster_size=2),\n",
       "             require_dense=[False, False])"
      ]
     },
     "execution_count": 207,
     "metadata": {},
     "output_type": "execute_result"
    }
   ],
   "source": [
    "classifier.fit(X_tr_all, y_tr.values)"
   ]
  },
  {
   "cell_type": "code",
   "execution_count": 208,
   "metadata": {},
   "outputs": [],
   "source": [
    "prediction = classifier.predict(X_test_all)"
   ]
  },
  {
   "cell_type": "code",
   "execution_count": 209,
   "metadata": {},
   "outputs": [
    {
     "data": {
      "text/plain": [
       "0.7916666666666666"
      ]
     },
     "execution_count": 209,
     "metadata": {},
     "output_type": "execute_result"
    }
   ],
   "source": [
    "from sklearn.metrics import accuracy_score\n",
    "accuracy_score(y_test, prediction)"
   ]
  },
  {
   "cell_type": "code",
   "execution_count": 53,
   "metadata": {},
   "outputs": [
    {
     "data": {
      "text/plain": [
       "0.12444444444444444"
      ]
     },
     "execution_count": 53,
     "metadata": {},
     "output_type": "execute_result"
    }
   ],
   "source": [
    "from sklearn.metrics import hamming_loss\n",
    "hamming_loss(y_test, prediction, labels=None, sample_weight=None)"
   ]
  },
  {
   "cell_type": "code",
   "execution_count": 54,
   "metadata": {},
   "outputs": [
    {
     "data": {
      "text/plain": [
       "0.8344444444444444"
      ]
     },
     "execution_count": 54,
     "metadata": {},
     "output_type": "execute_result"
    }
   ],
   "source": [
    "from sklearn.metrics import jaccard_similarity_score\n",
    "jaccard_similarity_score(y_test, prediction, sample_weight=None)"
   ]
  },
  {
   "cell_type": "code",
   "execution_count": 55,
   "metadata": {},
   "outputs": [
    {
     "data": {
      "text/plain": [
       "0.8914728682170542"
      ]
     },
     "execution_count": 55,
     "metadata": {},
     "output_type": "execute_result"
    }
   ],
   "source": [
    "from sklearn.metrics import f1_score\n",
    "f1_score(y_test, prediction,  labels=None, pos_label=1, average='micro', sample_weight=None)"
   ]
  },
  {
   "cell_type": "code",
   "execution_count": 56,
   "metadata": {},
   "outputs": [
    {
     "data": {
      "text/plain": [
       "0.8912287552911161"
      ]
     },
     "execution_count": 56,
     "metadata": {},
     "output_type": "execute_result"
    }
   ],
   "source": [
    "from sklearn.metrics import f1_score\n",
    "f1_score(y_test, prediction,  labels=None, pos_label=1, average='macro', sample_weight=None)"
   ]
  },
  {
   "cell_type": "code",
   "execution_count": 57,
   "metadata": {},
   "outputs": [],
   "source": [
    "from sklearn.neural_network import MLPClassifier"
   ]
  },
  {
   "cell_type": "code",
   "execution_count": 58,
   "metadata": {},
   "outputs": [],
   "source": [
    "classifier = RakelO(\n",
    "    base_classifier=MLPClassifier(solver='lbfgs', alpha=1e-5, hidden_layer_sizes=(5, 2), random_state=1),\n",
    "    base_classifier_require_dense=[False, False],\n",
    "    labelset_size=2,\n",
    "    model_count=5\n",
    ")"
   ]
  },
  {
   "cell_type": "code",
   "execution_count": 59,
   "metadata": {},
   "outputs": [
    {
     "data": {
      "text/plain": [
       "MajorityVotingClassifier(classifier=LabelPowerset(classifier=MLPClassifier(activation='relu', alpha=1e-05, batch_size='auto', beta_1=0.9,\n",
       "       beta_2=0.999, early_stopping=False, epsilon=1e-08,\n",
       "       hidden_layer_sizes=(5, 2), learning_rate='constant',\n",
       "       learning_rate_init=0.001, max_iter=200, momentum=0.9,\n",
       "       n...     validation_fraction=0.1, verbose=False, warm_start=False),\n",
       "       require_dense=[False, False]),\n",
       "             clusterer=RandomLabelSpaceClusterer(allow_overlap=True, cluster_count=5, cluster_size=2),\n",
       "             require_dense=[False, False])"
      ]
     },
     "execution_count": 59,
     "metadata": {},
     "output_type": "execute_result"
    }
   ],
   "source": [
    "classifier.fit(X_tr_all, y_tr)"
   ]
  },
  {
   "cell_type": "code",
   "execution_count": 60,
   "metadata": {},
   "outputs": [],
   "source": [
    "prediction = classifier.predict(X_test_all)"
   ]
  },
  {
   "cell_type": "code",
   "execution_count": 61,
   "metadata": {},
   "outputs": [
    {
     "data": {
      "text/plain": [
       "0.755"
      ]
     },
     "execution_count": 61,
     "metadata": {},
     "output_type": "execute_result"
    }
   ],
   "source": [
    "from sklearn.metrics import accuracy_score\n",
    "accuracy_score(y_test, prediction)"
   ]
  },
  {
   "cell_type": "code",
   "execution_count": 62,
   "metadata": {},
   "outputs": [
    {
     "data": {
      "text/plain": [
       "0.1322222222222222"
      ]
     },
     "execution_count": 62,
     "metadata": {},
     "output_type": "execute_result"
    }
   ],
   "source": [
    "from sklearn.metrics import hamming_loss\n",
    "hamming_loss(y_test, prediction, labels=None, sample_weight=None)"
   ]
  },
  {
   "cell_type": "code",
   "execution_count": 63,
   "metadata": {},
   "outputs": [
    {
     "data": {
      "text/plain": [
       "0.8136111111111111"
      ]
     },
     "execution_count": 63,
     "metadata": {},
     "output_type": "execute_result"
    }
   ],
   "source": [
    "from sklearn.metrics import jaccard_similarity_score\n",
    "jaccard_similarity_score(y_test, prediction, sample_weight=None)"
   ]
  },
  {
   "cell_type": "code",
   "execution_count": 64,
   "metadata": {},
   "outputs": [
    {
     "data": {
      "text/plain": [
       "0.8801611278952668"
      ]
     },
     "execution_count": 64,
     "metadata": {},
     "output_type": "execute_result"
    }
   ],
   "source": [
    "from sklearn.metrics import f1_score\n",
    "f1_score(y_test, prediction,  labels=None, pos_label=1, average='micro', sample_weight=None)"
   ]
  },
  {
   "cell_type": "code",
   "execution_count": 65,
   "metadata": {},
   "outputs": [
    {
     "data": {
      "text/plain": [
       "0.8794090642673874"
      ]
     },
     "execution_count": 65,
     "metadata": {},
     "output_type": "execute_result"
    }
   ],
   "source": [
    "from sklearn.metrics import f1_score\n",
    "f1_score(y_test, prediction,  labels=None, pos_label=1, average='macro', sample_weight=None)"
   ]
  },
  {
   "cell_type": "code",
   "execution_count": 66,
   "metadata": {},
   "outputs": [],
   "source": [
    "from sklearn.linear_model import LogisticRegression"
   ]
  },
  {
   "cell_type": "code",
   "execution_count": 67,
   "metadata": {},
   "outputs": [],
   "source": [
    "classifier = RakelO(\n",
    "    base_classifier=LogisticRegression(),\n",
    "    base_classifier_require_dense=[False, False],\n",
    "    labelset_size=2,\n",
    "    model_count=5\n",
    ")"
   ]
  },
  {
   "cell_type": "code",
   "execution_count": 68,
   "metadata": {},
   "outputs": [
    {
     "name": "stderr",
     "output_type": "stream",
     "text": [
      "C:\\Users\\ABHI\\Anaconda3\\lib\\site-packages\\sklearn\\linear_model\\logistic.py:433: FutureWarning: Default solver will be changed to 'lbfgs' in 0.22. Specify a solver to silence this warning.\n",
      "  FutureWarning)\n",
      "C:\\Users\\ABHI\\Anaconda3\\lib\\site-packages\\sklearn\\linear_model\\logistic.py:460: FutureWarning: Default multi_class will be changed to 'auto' in 0.22. Specify the multi_class option to silence this warning.\n",
      "  \"this warning.\", FutureWarning)\n"
     ]
    },
    {
     "data": {
      "text/plain": [
       "MajorityVotingClassifier(classifier=LabelPowerset(classifier=LogisticRegression(C=1.0, class_weight=None, dual=False, fit_intercept=True,\n",
       "          intercept_scaling=1, max_iter=100, multi_class='warn',\n",
       "          n_jobs=None, penalty='l2', random_state=None, solver='warn',\n",
       "          tol=0.0001, verbose=0, warm_start=False),\n",
       "       require_dense=[False, False]),\n",
       "             clusterer=RandomLabelSpaceClusterer(allow_overlap=True, cluster_count=5, cluster_size=2),\n",
       "             require_dense=[False, False])"
      ]
     },
     "execution_count": 68,
     "metadata": {},
     "output_type": "execute_result"
    }
   ],
   "source": [
    "classifier.fit(X_tr_all, y_tr)"
   ]
  },
  {
   "cell_type": "code",
   "execution_count": 69,
   "metadata": {},
   "outputs": [],
   "source": [
    "prediction = classifier.predict(X_test_all)"
   ]
  },
  {
   "cell_type": "code",
   "execution_count": 70,
   "metadata": {},
   "outputs": [
    {
     "data": {
      "text/plain": [
       "0.795"
      ]
     },
     "execution_count": 70,
     "metadata": {},
     "output_type": "execute_result"
    }
   ],
   "source": [
    "from sklearn.metrics import accuracy_score\n",
    "accuracy_score(y_test, prediction)"
   ]
  },
  {
   "cell_type": "code",
   "execution_count": 71,
   "metadata": {},
   "outputs": [
    {
     "data": {
      "text/plain": [
       "0.12166666666666667"
      ]
     },
     "execution_count": 71,
     "metadata": {},
     "output_type": "execute_result"
    }
   ],
   "source": [
    "from sklearn.metrics import hamming_loss\n",
    "hamming_loss(y_test, prediction, labels=None, sample_weight=None)"
   ]
  },
  {
   "cell_type": "code",
   "execution_count": 72,
   "metadata": {},
   "outputs": [
    {
     "data": {
      "text/plain": [
       "0.8366666666666667"
      ]
     },
     "execution_count": 72,
     "metadata": {},
     "output_type": "execute_result"
    }
   ],
   "source": [
    "from sklearn.metrics import jaccard_similarity_score\n",
    "jaccard_similarity_score(y_test, prediction, sample_weight=None)"
   ]
  },
  {
   "cell_type": "code",
   "execution_count": 73,
   "metadata": {},
   "outputs": [
    {
     "data": {
      "text/plain": [
       "0.8929095354523228"
      ]
     },
     "execution_count": 73,
     "metadata": {},
     "output_type": "execute_result"
    }
   ],
   "source": [
    "from sklearn.metrics import f1_score\n",
    "f1_score(y_test, prediction,  labels=None, pos_label=1, average='micro', sample_weight=None)"
   ]
  },
  {
   "cell_type": "code",
   "execution_count": 74,
   "metadata": {},
   "outputs": [
    {
     "data": {
      "text/plain": [
       "0.892645278008783"
      ]
     },
     "execution_count": 74,
     "metadata": {},
     "output_type": "execute_result"
    }
   ],
   "source": [
    "from sklearn.metrics import f1_score\n",
    "f1_score(y_test, prediction,  labels=None, pos_label=1, average='macro', sample_weight=None)"
   ]
  },
  {
   "cell_type": "code",
   "execution_count": 75,
   "metadata": {},
   "outputs": [],
   "source": [
    "from sklearn.ensemble import RandomForestClassifier\n"
   ]
  },
  {
   "cell_type": "code",
   "execution_count": 76,
   "metadata": {},
   "outputs": [],
   "source": [
    "classifier = RakelO(\n",
    "    base_classifier=RandomForestClassifier(),\n",
    "    base_classifier_require_dense=[False, False],\n",
    "    labelset_size=2,\n",
    "    model_count=5\n",
    ")"
   ]
  },
  {
   "cell_type": "code",
   "execution_count": 77,
   "metadata": {},
   "outputs": [
    {
     "name": "stderr",
     "output_type": "stream",
     "text": [
      "C:\\Users\\ABHI\\Anaconda3\\lib\\site-packages\\sklearn\\ensemble\\forest.py:246: FutureWarning: The default value of n_estimators will change from 10 in version 0.20 to 100 in 0.22.\n",
      "  \"10 in version 0.20 to 100 in 0.22.\", FutureWarning)\n",
      "C:\\Users\\ABHI\\Anaconda3\\lib\\site-packages\\sklearn\\ensemble\\forest.py:246: FutureWarning: The default value of n_estimators will change from 10 in version 0.20 to 100 in 0.22.\n",
      "  \"10 in version 0.20 to 100 in 0.22.\", FutureWarning)\n",
      "C:\\Users\\ABHI\\Anaconda3\\lib\\site-packages\\sklearn\\ensemble\\forest.py:246: FutureWarning: The default value of n_estimators will change from 10 in version 0.20 to 100 in 0.22.\n",
      "  \"10 in version 0.20 to 100 in 0.22.\", FutureWarning)\n",
      "C:\\Users\\ABHI\\Anaconda3\\lib\\site-packages\\sklearn\\ensemble\\forest.py:246: FutureWarning: The default value of n_estimators will change from 10 in version 0.20 to 100 in 0.22.\n",
      "  \"10 in version 0.20 to 100 in 0.22.\", FutureWarning)\n",
      "C:\\Users\\ABHI\\Anaconda3\\lib\\site-packages\\sklearn\\ensemble\\forest.py:246: FutureWarning: The default value of n_estimators will change from 10 in version 0.20 to 100 in 0.22.\n",
      "  \"10 in version 0.20 to 100 in 0.22.\", FutureWarning)\n",
      "C:\\Users\\ABHI\\Anaconda3\\lib\\site-packages\\sklearn\\ensemble\\forest.py:246: FutureWarning: The default value of n_estimators will change from 10 in version 0.20 to 100 in 0.22.\n",
      "  \"10 in version 0.20 to 100 in 0.22.\", FutureWarning)\n"
     ]
    },
    {
     "data": {
      "text/plain": [
       "MajorityVotingClassifier(classifier=LabelPowerset(classifier=RandomForestClassifier(bootstrap=True, class_weight=None, criterion='gini',\n",
       "            max_depth=None, max_features='auto', max_leaf_nodes=None,\n",
       "            min_impurity_decrease=0.0, min_impurity_split=None,\n",
       "            min_samples_leaf=1, min_samples_split=2,\n",
       " ...e, random_state=None, verbose=0,\n",
       "            warm_start=False),\n",
       "       require_dense=[False, False]),\n",
       "             clusterer=RandomLabelSpaceClusterer(allow_overlap=True, cluster_count=5, cluster_size=2),\n",
       "             require_dense=[False, False])"
      ]
     },
     "execution_count": 77,
     "metadata": {},
     "output_type": "execute_result"
    }
   ],
   "source": [
    "classifier.fit(X_tr_all, y_tr)"
   ]
  },
  {
   "cell_type": "code",
   "execution_count": 78,
   "metadata": {},
   "outputs": [],
   "source": [
    "prediction = classifier.predict(X_test_all)"
   ]
  },
  {
   "cell_type": "code",
   "execution_count": 79,
   "metadata": {},
   "outputs": [
    {
     "data": {
      "text/plain": [
       "0.7466666666666667"
      ]
     },
     "execution_count": 79,
     "metadata": {},
     "output_type": "execute_result"
    }
   ],
   "source": [
    "accuracy_score(y_test, prediction)"
   ]
  },
  {
   "cell_type": "code",
   "execution_count": 80,
   "metadata": {},
   "outputs": [
    {
     "data": {
      "text/plain": [
       "0.13555555555555557"
      ]
     },
     "execution_count": 80,
     "metadata": {},
     "output_type": "execute_result"
    }
   ],
   "source": [
    "hamming_loss(y_test, prediction, labels=None, sample_weight=None)"
   ]
  },
  {
   "cell_type": "code",
   "execution_count": 81,
   "metadata": {},
   "outputs": [
    {
     "data": {
      "text/plain": [
       "0.81"
      ]
     },
     "execution_count": 81,
     "metadata": {},
     "output_type": "execute_result"
    }
   ],
   "source": [
    "jaccard_similarity_score(y_test, prediction, sample_weight=None)"
   ]
  },
  {
   "cell_type": "code",
   "execution_count": 82,
   "metadata": {},
   "outputs": [
    {
     "data": {
      "text/plain": [
       "0.8829174664107485"
      ]
     },
     "execution_count": 82,
     "metadata": {},
     "output_type": "execute_result"
    }
   ],
   "source": [
    "f1_score(y_test, prediction,  labels=None, pos_label=1, average='micro', sample_weight=None)"
   ]
  },
  {
   "cell_type": "code",
   "execution_count": 83,
   "metadata": {},
   "outputs": [
    {
     "data": {
      "text/plain": [
       "0.882494363052975"
      ]
     },
     "execution_count": 83,
     "metadata": {},
     "output_type": "execute_result"
    }
   ],
   "source": [
    "f1_score(y_test, prediction,  labels=None, pos_label=1, average='macro', sample_weight=None)"
   ]
  },
  {
   "cell_type": "code",
   "execution_count": 84,
   "metadata": {},
   "outputs": [],
   "source": [
    "clf1 = KNeighborsClassifier(n_neighbors = 1)\n",
    "clf2 = RandomForestClassifier()\n",
    "clf3 = MLPClassifier(solver='lbfgs', alpha=1e-5, hidden_layer_sizes=(5, 2), random_state=1)\n",
    "clf4 = LogisticRegression()\n",
    "clf5 = svm.SVC(gamma='scale')"
   ]
  },
  {
   "cell_type": "code",
   "execution_count": 85,
   "metadata": {},
   "outputs": [],
   "source": [
    "for clf, label in zip([clf1, clf2, clf3, clf4, clf5],['KNN', 'SVM', 'MLP', 'LP', 'RF']):\n",
    "    classifier = RakelO(\n",
    "        base_classifier=(clf),\n",
    "        base_classifier_require_dense=[False, False],\n",
    "        labelset_size=2,\n",
    "        model_count=5\n",
    "        )"
   ]
  },
  {
   "cell_type": "code",
   "execution_count": 86,
   "metadata": {},
   "outputs": [
    {
     "data": {
      "text/plain": [
       "MajorityVotingClassifier(classifier=LabelPowerset(classifier=SVC(C=1.0, cache_size=200, class_weight=None, coef0=0.0,\n",
       "  decision_function_shape='ovr', degree=3, gamma='scale', kernel='rbf',\n",
       "  max_iter=-1, probability=False, random_state=None, shrinking=True,\n",
       "  tol=0.001, verbose=False),\n",
       "       require_dense=[False, False]),\n",
       "             clusterer=RandomLabelSpaceClusterer(allow_overlap=True, cluster_count=5, cluster_size=2),\n",
       "             require_dense=[False, False])"
      ]
     },
     "execution_count": 86,
     "metadata": {},
     "output_type": "execute_result"
    }
   ],
   "source": [
    "classifier.fit(X_tr_all, y_tr)"
   ]
  },
  {
   "cell_type": "code",
   "execution_count": 87,
   "metadata": {},
   "outputs": [],
   "source": [
    "prediction = classifier.predict(X_test_all)"
   ]
  },
  {
   "cell_type": "code",
   "execution_count": 88,
   "metadata": {},
   "outputs": [
    {
     "data": {
      "text/plain": [
       "0.7916666666666666"
      ]
     },
     "execution_count": 88,
     "metadata": {},
     "output_type": "execute_result"
    }
   ],
   "source": [
    "from sklearn.metrics import accuracy_score\n",
    "accuracy_score(y_test, prediction)"
   ]
  },
  {
   "cell_type": "code",
   "execution_count": 89,
   "metadata": {},
   "outputs": [],
   "source": [
    "from skmultilearn.problem_transform import LabelPowerset\n",
    "from skmultilearn.cluster import LabelCooccurrenceGraphBuilder \n",
    "from skmultilearn.ensemble import LabelSpacePartitioningClassifier"
   ]
  },
  {
   "cell_type": "code",
   "execution_count": 90,
   "metadata": {},
   "outputs": [],
   "source": [
    "from skmultilearn.cluster import NetworkXLabelGraphClusterer"
   ]
  },
  {
   "cell_type": "code",
   "execution_count": 91,
   "metadata": {},
   "outputs": [],
   "source": [
    "base_classifier = KNeighborsClassifier(n_neighbors = 1)"
   ]
  },
  {
   "cell_type": "code",
   "execution_count": 92,
   "metadata": {},
   "outputs": [],
   "source": [
    "graph_builder = LabelCooccurrenceGraphBuilder(\n",
    "    weighted = True,\n",
    "    include_self_edges = False\n",
    ")"
   ]
  },
  {
   "cell_type": "code",
   "execution_count": 93,
   "metadata": {},
   "outputs": [],
   "source": [
    "problem_transform_classifier = LabelPowerset(classifier=base_classifier,\n",
    "    require_dense=[False, False])"
   ]
  },
  {
   "cell_type": "code",
   "execution_count": 94,
   "metadata": {},
   "outputs": [],
   "source": [
    "clusterer = NetworkXLabelGraphClusterer(graph_builder=graph_builder, method='louvain')"
   ]
  },
  {
   "cell_type": "code",
   "execution_count": 95,
   "metadata": {},
   "outputs": [],
   "source": [
    "classifier = LabelSpacePartitioningClassifier(problem_transform_classifier, clusterer)"
   ]
  },
  {
   "cell_type": "code",
   "execution_count": 96,
   "metadata": {},
   "outputs": [
    {
     "data": {
      "text/plain": [
       "LabelSpacePartitioningClassifier(classifier=LabelPowerset(classifier=KNeighborsClassifier(algorithm='auto', leaf_size=30, metric='minkowski',\n",
       "           metric_params=None, n_jobs=None, n_neighbors=1, p=2,\n",
       "           weights='uniform'),\n",
       "       require_dense=[False, False]),\n",
       "                 clusterer=<skmultilearn.cluster.networkx.NetworkXLabelGraphClusterer object at 0x000000C31DF35128>,\n",
       "                 require_dense=[False, False])"
      ]
     },
     "execution_count": 96,
     "metadata": {},
     "output_type": "execute_result"
    }
   ],
   "source": [
    "classifier.fit(X_tr_all, y_tr)"
   ]
  },
  {
   "cell_type": "code",
   "execution_count": 97,
   "metadata": {},
   "outputs": [],
   "source": [
    "prediction = classifier.predict(X_test_all)"
   ]
  },
  {
   "cell_type": "code",
   "execution_count": 98,
   "metadata": {},
   "outputs": [
    {
     "data": {
      "text/plain": [
       "0.6716666666666666"
      ]
     },
     "execution_count": 98,
     "metadata": {},
     "output_type": "execute_result"
    }
   ],
   "source": [
    "accuracy_score(y_test, prediction)"
   ]
  },
  {
   "cell_type": "code",
   "execution_count": 99,
   "metadata": {},
   "outputs": [
    {
     "data": {
      "text/plain": [
       "0.18055555555555555"
      ]
     },
     "execution_count": 99,
     "metadata": {},
     "output_type": "execute_result"
    }
   ],
   "source": [
    "hamming_loss(y_test, prediction, labels=None, sample_weight=None)"
   ]
  },
  {
   "cell_type": "code",
   "execution_count": 100,
   "metadata": {},
   "outputs": [
    {
     "data": {
      "text/plain": [
       "0.7422222222222223"
      ]
     },
     "execution_count": 100,
     "metadata": {},
     "output_type": "execute_result"
    }
   ],
   "source": [
    "jaccard_similarity_score(y_test, prediction, sample_weight=None)"
   ]
  },
  {
   "cell_type": "code",
   "execution_count": 101,
   "metadata": {},
   "outputs": [
    {
     "data": {
      "text/plain": [
       "0.8421563865954348"
      ]
     },
     "execution_count": 101,
     "metadata": {},
     "output_type": "execute_result"
    }
   ],
   "source": [
    "f1_score(y_test, prediction,  labels=None, pos_label=1, average='micro', sample_weight=None)"
   ]
  },
  {
   "cell_type": "code",
   "execution_count": 102,
   "metadata": {},
   "outputs": [
    {
     "data": {
      "text/plain": [
       "0.8415946756541718"
      ]
     },
     "execution_count": 102,
     "metadata": {},
     "output_type": "execute_result"
    }
   ],
   "source": [
    "f1_score(y_test, prediction,  labels=None, pos_label=1, average='macro', sample_weight=None)"
   ]
  },
  {
   "cell_type": "code",
   "execution_count": 103,
   "metadata": {},
   "outputs": [],
   "source": [
    "base_classifier = LogisticRegression()"
   ]
  },
  {
   "cell_type": "code",
   "execution_count": 104,
   "metadata": {},
   "outputs": [],
   "source": [
    "graph_builder = LabelCooccurrenceGraphBuilder(\n",
    "    weighted = True,\n",
    "    include_self_edges = False\n",
    ")"
   ]
  },
  {
   "cell_type": "code",
   "execution_count": 105,
   "metadata": {},
   "outputs": [],
   "source": [
    "problem_transform_classifier = LabelPowerset(classifier=base_classifier,\n",
    "    require_dense=[False, False])"
   ]
  },
  {
   "cell_type": "code",
   "execution_count": 106,
   "metadata": {},
   "outputs": [],
   "source": [
    "clusterer = NetworkXLabelGraphClusterer(graph_builder=graph_builder, method='louvain')"
   ]
  },
  {
   "cell_type": "code",
   "execution_count": 107,
   "metadata": {},
   "outputs": [],
   "source": [
    "classifier = LabelSpacePartitioningClassifier(problem_transform_classifier, clusterer)"
   ]
  },
  {
   "cell_type": "code",
   "execution_count": 108,
   "metadata": {},
   "outputs": [
    {
     "name": "stderr",
     "output_type": "stream",
     "text": [
      "C:\\Users\\ABHI\\Anaconda3\\lib\\site-packages\\sklearn\\linear_model\\logistic.py:433: FutureWarning: Default solver will be changed to 'lbfgs' in 0.22. Specify a solver to silence this warning.\n",
      "  FutureWarning)\n",
      "C:\\Users\\ABHI\\Anaconda3\\lib\\site-packages\\sklearn\\linear_model\\logistic.py:460: FutureWarning: Default multi_class will be changed to 'auto' in 0.22. Specify the multi_class option to silence this warning.\n",
      "  \"this warning.\", FutureWarning)\n"
     ]
    },
    {
     "data": {
      "text/plain": [
       "LabelSpacePartitioningClassifier(classifier=LabelPowerset(classifier=LogisticRegression(C=1.0, class_weight=None, dual=False, fit_intercept=True,\n",
       "          intercept_scaling=1, max_iter=100, multi_class='warn',\n",
       "          n_jobs=None, penalty='l2', random_state=None, solver='warn',\n",
       "          tol=0.0001, verbose=0, warm_start=False),\n",
       "       require_dense=[False, False]),\n",
       "                 clusterer=<skmultilearn.cluster.networkx.NetworkXLabelGraphClusterer object at 0x000000C31DF54080>,\n",
       "                 require_dense=[False, False])"
      ]
     },
     "execution_count": 108,
     "metadata": {},
     "output_type": "execute_result"
    }
   ],
   "source": [
    "classifier.fit(X_tr_all, y_tr)"
   ]
  },
  {
   "cell_type": "code",
   "execution_count": 109,
   "metadata": {},
   "outputs": [],
   "source": [
    "prediction = classifier.predict(X_test_all)"
   ]
  },
  {
   "cell_type": "code",
   "execution_count": 110,
   "metadata": {},
   "outputs": [
    {
     "data": {
      "text/plain": [
       "0.795"
      ]
     },
     "execution_count": 110,
     "metadata": {},
     "output_type": "execute_result"
    }
   ],
   "source": [
    "accuracy_score(y_test, prediction)"
   ]
  },
  {
   "cell_type": "code",
   "execution_count": 111,
   "metadata": {},
   "outputs": [
    {
     "data": {
      "text/plain": [
       "0.12055555555555555"
      ]
     },
     "execution_count": 111,
     "metadata": {},
     "output_type": "execute_result"
    }
   ],
   "source": [
    "hamming_loss(y_test, prediction, labels=None, sample_weight=None)"
   ]
  },
  {
   "cell_type": "code",
   "execution_count": 112,
   "metadata": {},
   "outputs": [
    {
     "data": {
      "text/plain": [
       "0.8372222222222222"
      ]
     },
     "execution_count": 112,
     "metadata": {},
     "output_type": "execute_result"
    }
   ],
   "source": [
    "jaccard_similarity_score(y_test, prediction, sample_weight=None)"
   ]
  },
  {
   "cell_type": "code",
   "execution_count": 113,
   "metadata": {},
   "outputs": [
    {
     "data": {
      "text/plain": [
       "0.8940946803318692"
      ]
     },
     "execution_count": 113,
     "metadata": {},
     "output_type": "execute_result"
    }
   ],
   "source": [
    "f1_score(y_test, prediction,  labels=None, pos_label=1, average='micro', sample_weight=None)"
   ]
  },
  {
   "cell_type": "code",
   "execution_count": 114,
   "metadata": {},
   "outputs": [
    {
     "data": {
      "text/plain": [
       "0.8938462217239196"
      ]
     },
     "execution_count": 114,
     "metadata": {},
     "output_type": "execute_result"
    }
   ],
   "source": [
    "f1_score(y_test, prediction,  labels=None, pos_label=1, average='macro', sample_weight=None)"
   ]
  },
  {
   "cell_type": "code",
   "execution_count": 115,
   "metadata": {},
   "outputs": [],
   "source": [
    "base_classifier = svm.SVC(gamma = \"scale\")"
   ]
  },
  {
   "cell_type": "code",
   "execution_count": 116,
   "metadata": {},
   "outputs": [],
   "source": [
    "graph_builder = LabelCooccurrenceGraphBuilder(\n",
    "    weighted = True,\n",
    "    include_self_edges = False\n",
    ")"
   ]
  },
  {
   "cell_type": "code",
   "execution_count": 117,
   "metadata": {},
   "outputs": [],
   "source": [
    "problem_transform_classifier = LabelPowerset(classifier=base_classifier,\n",
    "    require_dense=[False, False])"
   ]
  },
  {
   "cell_type": "code",
   "execution_count": 118,
   "metadata": {},
   "outputs": [],
   "source": [
    "clusterer = NetworkXLabelGraphClusterer(graph_builder=graph_builder, method='louvain')"
   ]
  },
  {
   "cell_type": "code",
   "execution_count": 119,
   "metadata": {},
   "outputs": [],
   "source": [
    "classifier = LabelSpacePartitioningClassifier(problem_transform_classifier, clusterer)"
   ]
  },
  {
   "cell_type": "code",
   "execution_count": 120,
   "metadata": {},
   "outputs": [
    {
     "data": {
      "text/plain": [
       "LabelSpacePartitioningClassifier(classifier=LabelPowerset(classifier=SVC(C=1.0, cache_size=200, class_weight=None, coef0=0.0,\n",
       "  decision_function_shape='ovr', degree=3, gamma='scale', kernel='rbf',\n",
       "  max_iter=-1, probability=False, random_state=None, shrinking=True,\n",
       "  tol=0.001, verbose=False),\n",
       "       require_dense=[False, False]),\n",
       "                 clusterer=<skmultilearn.cluster.networkx.NetworkXLabelGraphClusterer object at 0x000000C31DF3B550>,\n",
       "                 require_dense=[False, False])"
      ]
     },
     "execution_count": 120,
     "metadata": {},
     "output_type": "execute_result"
    }
   ],
   "source": [
    "classifier.fit(X_tr_all, y_tr)"
   ]
  },
  {
   "cell_type": "code",
   "execution_count": 121,
   "metadata": {},
   "outputs": [],
   "source": [
    "prediction = classifier.predict(X_test_all)"
   ]
  },
  {
   "cell_type": "code",
   "execution_count": 122,
   "metadata": {},
   "outputs": [
    {
     "data": {
      "text/plain": [
       "0.79"
      ]
     },
     "execution_count": 122,
     "metadata": {},
     "output_type": "execute_result"
    }
   ],
   "source": [
    "accuracy_score(y_test, prediction)"
   ]
  },
  {
   "cell_type": "code",
   "execution_count": 123,
   "metadata": {},
   "outputs": [
    {
     "data": {
      "text/plain": [
       "0.12611111111111112"
      ]
     },
     "execution_count": 123,
     "metadata": {},
     "output_type": "execute_result"
    }
   ],
   "source": [
    "hamming_loss(y_test, prediction, labels=None, sample_weight=None)"
   ]
  },
  {
   "cell_type": "code",
   "execution_count": 124,
   "metadata": {},
   "outputs": [
    {
     "data": {
      "text/plain": [
       "0.8327777777777777"
      ]
     },
     "execution_count": 124,
     "metadata": {},
     "output_type": "execute_result"
    }
   ],
   "source": [
    "jaccard_similarity_score(y_test, prediction, sample_weight=None)"
   ]
  },
  {
   "cell_type": "code",
   "execution_count": 125,
   "metadata": {},
   "outputs": [
    {
     "data": {
      "text/plain": [
       "0.8901790033865505"
      ]
     },
     "execution_count": 125,
     "metadata": {},
     "output_type": "execute_result"
    }
   ],
   "source": [
    "f1_score(y_test, prediction,  labels=None, pos_label=1, average='micro', sample_weight=None)"
   ]
  },
  {
   "cell_type": "code",
   "execution_count": 126,
   "metadata": {},
   "outputs": [
    {
     "data": {
      "text/plain": [
       "0.8899353592516771"
      ]
     },
     "execution_count": 126,
     "metadata": {},
     "output_type": "execute_result"
    }
   ],
   "source": [
    "f1_score(y_test, prediction,  labels=None, pos_label=1, average='macro', sample_weight=None)"
   ]
  },
  {
   "cell_type": "code",
   "execution_count": 127,
   "metadata": {},
   "outputs": [],
   "source": [
    "base_classifier=MLPClassifier(solver='lbfgs', alpha=1e-5, hidden_layer_sizes=(5, 2), random_state=1)"
   ]
  },
  {
   "cell_type": "code",
   "execution_count": 128,
   "metadata": {},
   "outputs": [],
   "source": [
    "graph_builder = LabelCooccurrenceGraphBuilder(\n",
    "    weighted = True,\n",
    "    include_self_edges = False\n",
    ")"
   ]
  },
  {
   "cell_type": "code",
   "execution_count": 129,
   "metadata": {},
   "outputs": [],
   "source": [
    "problem_transform_classifier = LabelPowerset(classifier=base_classifier,\n",
    "    require_dense=[False, False])"
   ]
  },
  {
   "cell_type": "code",
   "execution_count": 130,
   "metadata": {},
   "outputs": [],
   "source": [
    "clusterer = NetworkXLabelGraphClusterer(graph_builder=graph_builder, method='louvain')"
   ]
  },
  {
   "cell_type": "code",
   "execution_count": 131,
   "metadata": {},
   "outputs": [],
   "source": [
    "classifier = LabelSpacePartitioningClassifier(problem_transform_classifier, clusterer)"
   ]
  },
  {
   "cell_type": "code",
   "execution_count": 132,
   "metadata": {},
   "outputs": [
    {
     "data": {
      "text/plain": [
       "LabelSpacePartitioningClassifier(classifier=LabelPowerset(classifier=MLPClassifier(activation='relu', alpha=1e-05, batch_size='auto', beta_1=0.9,\n",
       "       beta_2=0.999, early_stopping=False, epsilon=1e-08,\n",
       "       hidden_layer_sizes=(5, 2), learning_rate='constant',\n",
       "       learning_rate_init=0.001, max_iter=200, momentum=0.9,\n",
       "       n...     validation_fraction=0.1, verbose=False, warm_start=False),\n",
       "       require_dense=[False, False]),\n",
       "                 clusterer=<skmultilearn.cluster.networkx.NetworkXLabelGraphClusterer object at 0x000000C31DF5CBA8>,\n",
       "                 require_dense=[False, False])"
      ]
     },
     "execution_count": 132,
     "metadata": {},
     "output_type": "execute_result"
    }
   ],
   "source": [
    "classifier.fit(X_tr_all, y_tr)"
   ]
  },
  {
   "cell_type": "code",
   "execution_count": 133,
   "metadata": {},
   "outputs": [],
   "source": [
    "prediction = classifier.predict(X_test_all)"
   ]
  },
  {
   "cell_type": "code",
   "execution_count": 134,
   "metadata": {},
   "outputs": [
    {
     "data": {
      "text/plain": [
       "0.77"
      ]
     },
     "execution_count": 134,
     "metadata": {},
     "output_type": "execute_result"
    }
   ],
   "source": [
    "accuracy_score(y_test, prediction)"
   ]
  },
  {
   "cell_type": "code",
   "execution_count": 135,
   "metadata": {},
   "outputs": [
    {
     "data": {
      "text/plain": [
       "0.1361111111111111"
      ]
     },
     "execution_count": 135,
     "metadata": {},
     "output_type": "execute_result"
    }
   ],
   "source": [
    "hamming_loss(y_test, prediction, labels=None, sample_weight=None)"
   ]
  },
  {
   "cell_type": "code",
   "execution_count": 136,
   "metadata": {},
   "outputs": [
    {
     "data": {
      "text/plain": [
       "0.8225"
      ]
     },
     "execution_count": 136,
     "metadata": {},
     "output_type": "execute_result"
    }
   ],
   "source": [
    "jaccard_similarity_score(y_test, prediction, sample_weight=None)"
   ]
  },
  {
   "cell_type": "code",
   "execution_count": 137,
   "metadata": {},
   "outputs": [
    {
     "data": {
      "text/plain": [
       "0.8810101991257893"
      ]
     },
     "execution_count": 137,
     "metadata": {},
     "output_type": "execute_result"
    }
   ],
   "source": [
    "f1_score(y_test, prediction,  labels=None, pos_label=1, average='micro', sample_weight=None)"
   ]
  },
  {
   "cell_type": "code",
   "execution_count": 138,
   "metadata": {},
   "outputs": [
    {
     "data": {
      "text/plain": [
       "0.8806658586898974"
      ]
     },
     "execution_count": 138,
     "metadata": {},
     "output_type": "execute_result"
    }
   ],
   "source": [
    "f1_score(y_test, prediction,  labels=None, pos_label=1, average='macro', sample_weight=None)"
   ]
  },
  {
   "cell_type": "code",
   "execution_count": 139,
   "metadata": {},
   "outputs": [],
   "source": [
    "base_classifier=RandomForestClassifier()"
   ]
  },
  {
   "cell_type": "code",
   "execution_count": 140,
   "metadata": {},
   "outputs": [],
   "source": [
    "graph_builder = LabelCooccurrenceGraphBuilder(\n",
    "    weighted = True,\n",
    "    include_self_edges = False\n",
    ")\n"
   ]
  },
  {
   "cell_type": "code",
   "execution_count": 141,
   "metadata": {},
   "outputs": [],
   "source": [
    "problem_transform_classifier = LabelPowerset(classifier=base_classifier,\n",
    "    require_dense=[False, False])"
   ]
  },
  {
   "cell_type": "code",
   "execution_count": 142,
   "metadata": {},
   "outputs": [],
   "source": [
    "clusterer = NetworkXLabelGraphClusterer(graph_builder=graph_builder, method='louvain')"
   ]
  },
  {
   "cell_type": "code",
   "execution_count": 143,
   "metadata": {},
   "outputs": [],
   "source": [
    "classifier = LabelSpacePartitioningClassifier(problem_transform_classifier, clusterer)"
   ]
  },
  {
   "cell_type": "code",
   "execution_count": 144,
   "metadata": {},
   "outputs": [
    {
     "name": "stderr",
     "output_type": "stream",
     "text": [
      "C:\\Users\\ABHI\\Anaconda3\\lib\\site-packages\\sklearn\\ensemble\\forest.py:246: FutureWarning: The default value of n_estimators will change from 10 in version 0.20 to 100 in 0.22.\n",
      "  \"10 in version 0.20 to 100 in 0.22.\", FutureWarning)\n"
     ]
    },
    {
     "data": {
      "text/plain": [
       "LabelSpacePartitioningClassifier(classifier=LabelPowerset(classifier=RandomForestClassifier(bootstrap=True, class_weight=None, criterion='gini',\n",
       "            max_depth=None, max_features='auto', max_leaf_nodes=None,\n",
       "            min_impurity_decrease=0.0, min_impurity_split=None,\n",
       "            min_samples_leaf=1, min_samples_split=2,\n",
       " ...e, random_state=None, verbose=0,\n",
       "            warm_start=False),\n",
       "       require_dense=[False, False]),\n",
       "                 clusterer=<skmultilearn.cluster.networkx.NetworkXLabelGraphClusterer object at 0x000000C31DF06A90>,\n",
       "                 require_dense=[False, False])"
      ]
     },
     "execution_count": 144,
     "metadata": {},
     "output_type": "execute_result"
    }
   ],
   "source": [
    "classifier.fit(X_tr_all, y_tr)"
   ]
  },
  {
   "cell_type": "code",
   "execution_count": 145,
   "metadata": {},
   "outputs": [],
   "source": [
    "prediction = classifier.predict(X_test_all)"
   ]
  },
  {
   "cell_type": "code",
   "execution_count": 146,
   "metadata": {},
   "outputs": [
    {
     "data": {
      "text/plain": [
       "0.755"
      ]
     },
     "execution_count": 146,
     "metadata": {},
     "output_type": "execute_result"
    }
   ],
   "source": [
    "accuracy_score(y_test, prediction)"
   ]
  },
  {
   "cell_type": "code",
   "execution_count": 147,
   "metadata": {},
   "outputs": [
    {
     "data": {
      "text/plain": [
       "0.15888888888888889"
      ]
     },
     "execution_count": 147,
     "metadata": {},
     "output_type": "execute_result"
    }
   ],
   "source": [
    "hamming_loss(y_test, prediction, labels=None, sample_weight=None)"
   ]
  },
  {
   "cell_type": "code",
   "execution_count": 148,
   "metadata": {},
   "outputs": [
    {
     "data": {
      "text/plain": [
       "0.8066666666666665"
      ]
     },
     "execution_count": 148,
     "metadata": {},
     "output_type": "execute_result"
    }
   ],
   "source": [
    "jaccard_similarity_score(y_test, prediction, sample_weight=None)"
   ]
  },
  {
   "cell_type": "code",
   "execution_count": 149,
   "metadata": {},
   "outputs": [
    {
     "data": {
      "text/plain": [
       "0.8634192932187201"
      ]
     },
     "execution_count": 149,
     "metadata": {},
     "output_type": "execute_result"
    }
   ],
   "source": [
    "f1_score(y_test, prediction,  labels=None, pos_label=1, average='micro', sample_weight=None)"
   ]
  },
  {
   "cell_type": "code",
   "execution_count": 150,
   "metadata": {},
   "outputs": [
    {
     "data": {
      "text/plain": [
       "0.8630836403609393"
      ]
     },
     "execution_count": 150,
     "metadata": {},
     "output_type": "execute_result"
    }
   ],
   "source": [
    "f1_score(y_test, prediction,  labels=None, pos_label=1, average='macro', sample_weight=None)"
   ]
  },
  {
   "cell_type": "code",
   "execution_count": 210,
   "metadata": {},
   "outputs": [],
   "source": [
    "clf1 = KNeighborsClassifier(n_neighbors = 1)\n",
    "clf2 = RandomForestClassifier()\n",
    "clf3 = MLPClassifier(solver='lbfgs', alpha=1e-5, hidden_layer_sizes=(5, 2), random_state=1)\n",
    "clf4 = LogisticRegression()\n",
    "clf5 = svm.SVC(gamma='scale')"
   ]
  },
  {
   "cell_type": "code",
   "execution_count": 211,
   "metadata": {},
   "outputs": [
    {
     "name": "stderr",
     "output_type": "stream",
     "text": [
      "C:\\Users\\ABHI\\Anaconda3\\lib\\site-packages\\sklearn\\ensemble\\forest.py:246: FutureWarning: The default value of n_estimators will change from 10 in version 0.20 to 100 in 0.22.\n",
      "  \"10 in version 0.20 to 100 in 0.22.\", FutureWarning)\n",
      "C:\\Users\\ABHI\\Anaconda3\\lib\\site-packages\\sklearn\\linear_model\\logistic.py:433: FutureWarning: Default solver will be changed to 'lbfgs' in 0.22. Specify a solver to silence this warning.\n",
      "  FutureWarning)\n",
      "C:\\Users\\ABHI\\Anaconda3\\lib\\site-packages\\sklearn\\linear_model\\logistic.py:460: FutureWarning: Default multi_class will be changed to 'auto' in 0.22. Specify the multi_class option to silence this warning.\n",
      "  \"this warning.\", FutureWarning)\n"
     ]
    }
   ],
   "source": [
    "for clf, label in zip([clf1, clf2, clf3, clf4, clf5],['KNN', 'SVM', 'MLP', 'LP', 'RF']):\n",
    "    base_classifier = clf\n",
    "    graph_builder = LabelCooccurrenceGraphBuilder(\n",
    "    weighted = True,\n",
    "    include_self_edges = False)\n",
    "    problem_transform_classifier = LabelPowerset(classifier=base_classifier,\n",
    "    require_dense=[False, False])\n",
    "    clusterer = NetworkXLabelGraphClusterer(graph_builder=graph_builder, method='louvain')\n",
    "    classifier = LabelSpacePartitioningClassifier(problem_transform_classifier, clusterer)\n",
    "    classifier.fit(X_tr_all, y_tr)"
   ]
  },
  {
   "cell_type": "code",
   "execution_count": 153,
   "metadata": {},
   "outputs": [],
   "source": [
    "prediction = classifier.predict(X_test_all)"
   ]
  },
  {
   "cell_type": "code",
   "execution_count": 154,
   "metadata": {},
   "outputs": [
    {
     "data": {
      "text/plain": [
       "0.79"
      ]
     },
     "execution_count": 154,
     "metadata": {},
     "output_type": "execute_result"
    }
   ],
   "source": [
    "accuracy_score(y_test, prediction)"
   ]
  },
  {
   "cell_type": "code",
   "execution_count": 155,
   "metadata": {},
   "outputs": [
    {
     "data": {
      "text/plain": [
       "0.12611111111111112"
      ]
     },
     "execution_count": 155,
     "metadata": {},
     "output_type": "execute_result"
    }
   ],
   "source": [
    "hamming_loss(y_test, prediction, labels=None, sample_weight=None)"
   ]
  },
  {
   "cell_type": "code",
   "execution_count": 156,
   "metadata": {},
   "outputs": [
    {
     "data": {
      "text/plain": [
       "0.8327777777777777"
      ]
     },
     "execution_count": 156,
     "metadata": {},
     "output_type": "execute_result"
    }
   ],
   "source": [
    "jaccard_similarity_score(y_test, prediction, sample_weight=None)"
   ]
  },
  {
   "cell_type": "code",
   "execution_count": 157,
   "metadata": {},
   "outputs": [
    {
     "data": {
      "text/plain": [
       "0.8901790033865505"
      ]
     },
     "execution_count": 157,
     "metadata": {},
     "output_type": "execute_result"
    }
   ],
   "source": [
    "f1_score(y_test, prediction,  labels=None, pos_label=1, average='micro', sample_weight=None)"
   ]
  },
  {
   "cell_type": "code",
   "execution_count": 158,
   "metadata": {},
   "outputs": [
    {
     "data": {
      "text/plain": [
       "0.8899353592516771"
      ]
     },
     "execution_count": 158,
     "metadata": {},
     "output_type": "execute_result"
    }
   ],
   "source": [
    "f1_score(y_test, prediction,  labels=None, pos_label=1, average='macro', sample_weight=None)"
   ]
  }
 ],
 "metadata": {
  "kernelspec": {
   "display_name": "Python 3",
   "language": "python",
   "name": "python3"
  },
  "language_info": {
   "codemirror_mode": {
    "name": "ipython",
    "version": 3
   },
   "file_extension": ".py",
   "mimetype": "text/x-python",
   "name": "python",
   "nbconvert_exporter": "python",
   "pygments_lexer": "ipython3",
   "version": "3.7.1"
  }
 },
 "nbformat": 4,
 "nbformat_minor": 2
}
